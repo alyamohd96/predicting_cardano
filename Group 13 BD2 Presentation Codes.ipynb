{
 "cells": [
  {
   "cell_type": "markdown",
   "metadata": {},
   "source": [
    "# Big Data 2 Presentation Codes - Group 13\n",
    "\n",
    "\n",
    "Team Members: <br>\n",
    "1. Adam Kushairi (01916114) \n",
    "2. Ahmad Qadi (01968791)\n",
    "3. Alya Binti T Mohd (01991819)\n",
    "4. Manuel Cabral (01960028)\n",
    "4. Xiangyi Yin (00941583)"
   ]
  },
  {
   "cell_type": "markdown",
   "metadata": {},
   "source": [
    "# Importing Libraries"
   ]
  },
  {
   "cell_type": "code",
   "execution_count": 24,
   "metadata": {},
   "outputs": [],
   "source": [
    "import pickle\n",
    "import arrow\n",
    "import time\n",
    "import numpy as np \n",
    "import pandas as pd \n",
    "import seaborn as sn \n",
    "from matplotlib import cm\n",
    "import matplotlib.pyplot as plt\n",
    "from sklearn import linear_model\n",
    "import prettytable\n",
    "from sklearn.metrics import r2_score\n",
    "from keras.optimizers import RMSprop\n",
    "from keras.models import Sequential\n",
    "from keras.layers import LSTM, Dense, Dropout\n",
    "from sklearn.neural_network import MLPRegressor\n",
    "from sklearn.preprocessing import MinMaxScaler\n",
    "from sklearn.model_selection import train_test_split\n",
    "from sklearn.preprocessing import LabelEncoder\n",
    "from sklearn.preprocessing import OneHotEncoder\n",
    "from sklearn.metrics import confusion_matrix\n",
    "from sklearn.linear_model import LogisticRegressionCV\n",
    "from sklearn.preprocessing import StandardScaler\n",
    "from sklearn.model_selection import TimeSeriesSplit\n",
    "from sklearn.linear_model import LassoCV\n",
    "from sklearn.linear_model import Lasso\n",
    "from sklearn.metrics import mean_absolute_error\n",
    "from sklearn.metrics import mean_squared_error\n",
    "from sklearn.model_selection import train_test_split\n",
    "\n",
    "seed_value = 1\n",
    "import random\n",
    "random.seed(seed_value)\n",
    "np.random.seed(seed_value)\n",
    "import tensorflow as tf\n",
    "tf.random.set_seed(seed_value)\n",
    "\n",
    "\n",
    "\n",
    "\n",
    "import warnings\n",
    "warnings.filterwarnings(\"ignore\")"
   ]
  },
  {
   "cell_type": "markdown",
   "metadata": {},
   "source": [
    "# -------------------------------------------------------------------------------------------"
   ]
  },
  {
   "cell_type": "markdown",
   "metadata": {},
   "source": [
    "# Classification Models"
   ]
  },
  {
   "cell_type": "code",
   "execution_count": 10,
   "metadata": {},
   "outputs": [],
   "source": [
    "ada = pd.read_csv('Clean_ADA.csv').iloc[:, 1:]\n",
    "ada_returns = pd.read_csv('ada_return.csv').iloc[:, 1:]\n",
    "ada_returns = np.where(ada_returns['0'] < -0.09, \"1\", np.where(ada_returns['0'] >  0.08, \"3\", \"2\"))"
   ]
  },
  {
   "cell_type": "code",
   "execution_count": 239,
   "metadata": {},
   "outputs": [
    {
     "data": {
      "text/html": [
       "<div>\n",
       "<style scoped>\n",
       "    .dataframe tbody tr th:only-of-type {\n",
       "        vertical-align: middle;\n",
       "    }\n",
       "\n",
       "    .dataframe tbody tr th {\n",
       "        vertical-align: top;\n",
       "    }\n",
       "\n",
       "    .dataframe thead th {\n",
       "        text-align: right;\n",
       "    }\n",
       "</style>\n",
       "<table border=\"1\" class=\"dataframe\">\n",
       "  <thead>\n",
       "    <tr style=\"text-align: right;\">\n",
       "      <th></th>\n",
       "      <th>Open</th>\n",
       "      <th>High</th>\n",
       "      <th>Low</th>\n",
       "      <th>Close</th>\n",
       "      <th>HL/O</th>\n",
       "      <th>Volume</th>\n",
       "      <th>Quote asset volume</th>\n",
       "      <th>Number of trades</th>\n",
       "      <th>Taker buy base asset volume</th>\n",
       "      <th>Taker buy quote asset volumne</th>\n",
       "      <th>...</th>\n",
       "      <th>BTC Taker buy base asset volume</th>\n",
       "      <th>BTC Taker buy quote asset volumne</th>\n",
       "      <th>BTC Open Ratio</th>\n",
       "      <th>BTC High Ratio</th>\n",
       "      <th>BTC Low Ratio</th>\n",
       "      <th>BTC Close Ratio</th>\n",
       "      <th>BTC HL/O</th>\n",
       "      <th>OHLC</th>\n",
       "      <th>BTC OHLC</th>\n",
       "      <th>Delta T</th>\n",
       "    </tr>\n",
       "  </thead>\n",
       "  <tbody>\n",
       "    <tr>\n",
       "      <th>0</th>\n",
       "      <td>2.282852</td>\n",
       "      <td>2.562734</td>\n",
       "      <td>2.212629</td>\n",
       "      <td>2.282406</td>\n",
       "      <td>24.819483</td>\n",
       "      <td>0.995053</td>\n",
       "      <td>4.294496</td>\n",
       "      <td>3.389996</td>\n",
       "      <td>0.357925</td>\n",
       "      <td>2.383868</td>\n",
       "      <td>...</td>\n",
       "      <td>-0.392947</td>\n",
       "      <td>-0.232649</td>\n",
       "      <td>-0.984746</td>\n",
       "      <td>-0.959240</td>\n",
       "      <td>0.010111</td>\n",
       "      <td>-0.004484</td>\n",
       "      <td>-0.495216</td>\n",
       "      <td>2.335417</td>\n",
       "      <td>0.935985</td>\n",
       "      <td>-0.006947</td>\n",
       "    </tr>\n",
       "    <tr>\n",
       "      <th>1</th>\n",
       "      <td>2.282575</td>\n",
       "      <td>2.470905</td>\n",
       "      <td>2.249791</td>\n",
       "      <td>2.284203</td>\n",
       "      <td>15.754980</td>\n",
       "      <td>1.121216</td>\n",
       "      <td>4.668924</td>\n",
       "      <td>4.654881</td>\n",
       "      <td>0.293500</td>\n",
       "      <td>2.191511</td>\n",
       "      <td>...</td>\n",
       "      <td>-0.333239</td>\n",
       "      <td>-0.169698</td>\n",
       "      <td>-0.005135</td>\n",
       "      <td>-0.119600</td>\n",
       "      <td>-0.838953</td>\n",
       "      <td>-1.045270</td>\n",
       "      <td>0.107837</td>\n",
       "      <td>2.322039</td>\n",
       "      <td>0.931695</td>\n",
       "      <td>-0.006947</td>\n",
       "    </tr>\n",
       "    <tr>\n",
       "      <th>2</th>\n",
       "      <td>2.283958</td>\n",
       "      <td>2.296485</td>\n",
       "      <td>2.224692</td>\n",
       "      <td>2.231937</td>\n",
       "      <td>5.230057</td>\n",
       "      <td>0.588997</td>\n",
       "      <td>3.091531</td>\n",
       "      <td>2.399424</td>\n",
       "      <td>-0.054835</td>\n",
       "      <td>1.171159</td>\n",
       "      <td>...</td>\n",
       "      <td>-0.031545</td>\n",
       "      <td>0.150811</td>\n",
       "      <td>-1.047993</td>\n",
       "      <td>-0.519800</td>\n",
       "      <td>-0.593116</td>\n",
       "      <td>-0.468097</td>\n",
       "      <td>0.201372</td>\n",
       "      <td>2.259333</td>\n",
       "      <td>0.926137</td>\n",
       "      <td>-0.006947</td>\n",
       "    </tr>\n",
       "    <tr>\n",
       "      <th>3</th>\n",
       "      <td>2.231832</td>\n",
       "      <td>2.236782</td>\n",
       "      <td>2.196960</td>\n",
       "      <td>2.226268</td>\n",
       "      <td>3.028608</td>\n",
       "      <td>0.468311</td>\n",
       "      <td>2.683271</td>\n",
       "      <td>3.572871</td>\n",
       "      <td>0.408048</td>\n",
       "      <td>2.440763</td>\n",
       "      <td>...</td>\n",
       "      <td>-0.577746</td>\n",
       "      <td>-0.430200</td>\n",
       "      <td>-0.468763</td>\n",
       "      <td>-0.307955</td>\n",
       "      <td>0.078704</td>\n",
       "      <td>0.230459</td>\n",
       "      <td>-0.100163</td>\n",
       "      <td>2.223003</td>\n",
       "      <td>0.925199</td>\n",
       "      <td>-0.006947</td>\n",
       "    </tr>\n",
       "    <tr>\n",
       "      <th>4</th>\n",
       "      <td>2.226163</td>\n",
       "      <td>2.245055</td>\n",
       "      <td>2.209717</td>\n",
       "      <td>2.227789</td>\n",
       "      <td>2.719729</td>\n",
       "      <td>0.206239</td>\n",
       "      <td>1.954198</td>\n",
       "      <td>1.523149</td>\n",
       "      <td>0.038041</td>\n",
       "      <td>1.416304</td>\n",
       "      <td>...</td>\n",
       "      <td>-0.015550</td>\n",
       "      <td>0.165895</td>\n",
       "      <td>0.142732</td>\n",
       "      <td>-0.317046</td>\n",
       "      <td>-0.496846</td>\n",
       "      <td>0.133030</td>\n",
       "      <td>0.067042</td>\n",
       "      <td>2.227220</td>\n",
       "      <td>0.924126</td>\n",
       "      <td>-0.006947</td>\n",
       "    </tr>\n",
       "  </tbody>\n",
       "</table>\n",
       "<p>5 rows × 92 columns</p>\n",
       "</div>"
      ],
      "text/plain": [
       "       Open      High       Low     Close       HL/O    Volume  \\\n",
       "0  2.282852  2.562734  2.212629  2.282406  24.819483  0.995053   \n",
       "1  2.282575  2.470905  2.249791  2.284203  15.754980  1.121216   \n",
       "2  2.283958  2.296485  2.224692  2.231937   5.230057  0.588997   \n",
       "3  2.231832  2.236782  2.196960  2.226268   3.028608  0.468311   \n",
       "4  2.226163  2.245055  2.209717  2.227789   2.719729  0.206239   \n",
       "\n",
       "   Quote asset volume  Number of trades  Taker buy base asset volume  \\\n",
       "0            4.294496          3.389996                     0.357925   \n",
       "1            4.668924          4.654881                     0.293500   \n",
       "2            3.091531          2.399424                    -0.054835   \n",
       "3            2.683271          3.572871                     0.408048   \n",
       "4            1.954198          1.523149                     0.038041   \n",
       "\n",
       "   Taker buy quote asset volumne  ...  BTC Taker buy base asset volume  \\\n",
       "0                       2.383868  ...                        -0.392947   \n",
       "1                       2.191511  ...                        -0.333239   \n",
       "2                       1.171159  ...                        -0.031545   \n",
       "3                       2.440763  ...                        -0.577746   \n",
       "4                       1.416304  ...                        -0.015550   \n",
       "\n",
       "   BTC Taker buy quote asset volumne  BTC Open Ratio  BTC High Ratio  \\\n",
       "0                          -0.232649       -0.984746       -0.959240   \n",
       "1                          -0.169698       -0.005135       -0.119600   \n",
       "2                           0.150811       -1.047993       -0.519800   \n",
       "3                          -0.430200       -0.468763       -0.307955   \n",
       "4                           0.165895        0.142732       -0.317046   \n",
       "\n",
       "   BTC Low Ratio  BTC Close Ratio  BTC HL/O      OHLC  BTC OHLC   Delta T  \n",
       "0       0.010111        -0.004484 -0.495216  2.335417  0.935985 -0.006947  \n",
       "1      -0.838953        -1.045270  0.107837  2.322039  0.931695 -0.006947  \n",
       "2      -0.593116        -0.468097  0.201372  2.259333  0.926137 -0.006947  \n",
       "3       0.078704         0.230459 -0.100163  2.223003  0.925199 -0.006947  \n",
       "4      -0.496846         0.133030  0.067042  2.227220  0.924126 -0.006947  \n",
       "\n",
       "[5 rows x 92 columns]"
      ]
     },
     "execution_count": 239,
     "metadata": {},
     "output_type": "execute_result"
    }
   ],
   "source": [
    "ada.head()"
   ]
  },
  {
   "cell_type": "code",
   "execution_count": 11,
   "metadata": {},
   "outputs": [],
   "source": [
    "X_train, X_test, y_train, y_test = train_test_split(ada, ada_returns, test_size=0.5, random_state = 0)"
   ]
  },
  {
   "cell_type": "markdown",
   "metadata": {},
   "source": [
    "# 1- Lasso\n"
   ]
  },
  {
   "cell_type": "code",
   "execution_count": 12,
   "metadata": {
    "collapsed": true
   },
   "outputs": [
    {
     "name": "stderr",
     "output_type": "stream",
     "text": [
      "[Parallel(n_jobs=-1)]: Using backend ThreadingBackend with 32 concurrent workers.\n"
     ]
    },
    {
     "name": "stdout",
     "output_type": "stream",
     "text": [
      "max_iter reached after 23 seconds\n",
      "max_iter reached after 23 seconds\n",
      "max_iter reached after 23 seconds\n",
      "max_iter reached after 23 seconds\n",
      "max_iter reached after 23 seconds\n",
      "max_iter reached after 23 seconds\n",
      "max_iter reached after 23 seconds\n",
      "max_iter reached after 23 seconds\n",
      "max_iter reached after 23 seconds\n",
      "max_iter reached after 23 seconds\n",
      "max_iter reached after 25 seconds\n",
      "max_iter reached after 25 seconds\n",
      "max_iter reached after 25 seconds\n",
      "max_iter reached after 26 seconds\n",
      "max_iter reached after 26 seconds\n",
      "max_iter reached after 26 seconds\n",
      "max_iter reached after 26 seconds\n",
      "max_iter reached after 27 seconds\n",
      "max_iter reached after 26 seconds\n",
      "max_iter reached after 26 seconds\n",
      "max_iter reached after 27 seconds\n",
      "max_iter reached after 27 seconds\n",
      "max_iter reached after 26 seconds\n",
      "max_iter reached after 26 seconds\n",
      "max_iter reached after 26 seconds\n",
      "max_iter reached after 25 seconds\n",
      "max_iter reached after 26 seconds\n",
      "max_iter reached after 27 seconds\n",
      "max_iter reached after 27 seconds\n",
      "max_iter reached after 27 seconds\n",
      "max_iter reached after 27 seconds\n",
      "max_iter reached after 27 seconds\n",
      "max_iter reached after 27 seconds\n",
      "max_iter reached after 27 seconds\n",
      "max_iter reached after 27 seconds\n",
      "max_iter reached after 27 seconds\n",
      "max_iter reached after 28 seconds\n",
      "max_iter reached after 27 seconds\n",
      "max_iter reached after 28 seconds\n",
      "max_iter reached after 28 seconds\n",
      "max_iter reached after 27 seconds\n",
      "max_iter reached after 27 seconds\n",
      "max_iter reached after 27 seconds\n",
      "max_iter reached after 27 seconds\n",
      "max_iter reached after 27 seconds\n",
      "max_iter reached after 27 seconds\n",
      "max_iter reached after 27 seconds\n"
     ]
    },
    {
     "name": "stderr",
     "output_type": "stream",
     "text": [
      "[Parallel(n_jobs=-1)]: Done   2 out of   5 | elapsed:  4.3min remaining:  6.5min\n"
     ]
    },
    {
     "name": "stdout",
     "output_type": "stream",
     "text": [
      "max_iter reached after 28 seconds\n",
      "max_iter reached after 27 seconds\n",
      "max_iter reached after 28 seconds\n"
     ]
    },
    {
     "name": "stderr",
     "output_type": "stream",
     "text": [
      "[Parallel(n_jobs=-1)]: Done   5 out of   5 | elapsed:  4.3min finished\n"
     ]
    },
    {
     "data": {
      "text/plain": [
       "LogisticRegressionCV(cv=5, n_jobs=-1, penalty='l1', solver='saga', verbose=1)"
      ]
     },
     "execution_count": 12,
     "metadata": {},
     "output_type": "execute_result"
    }
   ],
   "source": [
    "lasso = LogisticRegressionCV(cv = 5, penalty='l1', solver='saga', verbose = 1, n_jobs = -1)\n",
    "lasso_model = lasso.fit(X_train, y_train)\n",
    "lasso_model"
   ]
  },
  {
   "cell_type": "code",
   "execution_count": 13,
   "metadata": {},
   "outputs": [
    {
     "name": "stdout",
     "output_type": "stream",
     "text": [
      "Accuracy : 41.86857723628242\n",
      "R Squared :  -0.6576600146631615\n"
     ]
    }
   ],
   "source": [
    "y_pred_test = lasso_model.predict(X_test)\n",
    "lasso_test_rs = r2_score(y_test,y_pred_test)\n",
    "scores = lasso_model.score(X_test, y_test)\n",
    "\n",
    "print('Accuracy :' , scores*100)\n",
    "print('R Squared : ', lasso_test_rs)"
   ]
  },
  {
   "cell_type": "markdown",
   "metadata": {},
   "source": [
    "## 2- Neural Network"
   ]
  },
  {
   "cell_type": "code",
   "execution_count": 14,
   "metadata": {},
   "outputs": [
    {
     "name": "stdout",
     "output_type": "stream",
     "text": [
      "(159393, 92) (159393,)\n",
      "(159394, 92) (159394,)\n"
     ]
    }
   ],
   "source": [
    "X_train = np.array(X_train, dtype=np.float32)\n",
    "y_train = np.array(y_train, dtype=np.float32)\n",
    "X_test = np.array(X_test, dtype=np.float32)\n",
    "y_test = np.array(y_test, dtype=np.float32)\n",
    "\n",
    "print(X_train.shape,y_train.shape)\n",
    "print(X_test.shape,y_test.shape)"
   ]
  },
  {
   "cell_type": "code",
   "execution_count": 15,
   "metadata": {},
   "outputs": [
    {
     "name": "stdout",
     "output_type": "stream",
     "text": [
      "input neurons:  93\n",
      "output neurons:  4\n",
      "hidden layer:  256\n"
     ]
    }
   ],
   "source": [
    "input_n = X_train.shape[1] + 1\n",
    "output_n = 4\n",
    "hidden_layer = 256\n",
    "hidden_layer2 = hidden_layer/2\n",
    "print('input neurons: ', input_n)\n",
    "print('output neurons: ', output_n)\n",
    "print('hidden layer: ', hidden_layer)"
   ]
  },
  {
   "cell_type": "code",
   "execution_count": 16,
   "metadata": {},
   "outputs": [],
   "source": [
    "model = Sequential()\n",
    "model.add(Dropout(0.2))\n",
    "model.add(Dense(input_n, activation='relu'))\n",
    "model.add(Dense(hidden_layer, activation='relu'))\n",
    "model.add(Dense(hidden_layer2, activation='relu'))\n",
    "model.add(Dense(output_n, activation='softmax'))\n",
    "model.compile(loss='sparse_categorical_crossentropy', optimizer='adam', metrics=['accuracy'])"
   ]
  },
  {
   "cell_type": "code",
   "execution_count": 17,
   "metadata": {
    "collapsed": true
   },
   "outputs": [
    {
     "name": "stdout",
     "output_type": "stream",
     "text": [
      "Epoch 1/20\n",
      "2136/2136 [==============================] - 2s 960us/step - loss: 1.0823 - accuracy: 0.4033 - val_loss: 1.0622 - val_accuracy: 0.4205\n",
      "Epoch 2/20\n",
      "2136/2136 [==============================] - 2s 875us/step - loss: 1.0653 - accuracy: 0.4147 - val_loss: 1.0599 - val_accuracy: 0.4191\n",
      "Epoch 3/20\n",
      "2136/2136 [==============================] - 2s 887us/step - loss: 1.0626 - accuracy: 0.4167 - val_loss: 1.0592 - val_accuracy: 0.4186\n",
      "Epoch 4/20\n",
      "2136/2136 [==============================] - 2s 881us/step - loss: 1.0607 - accuracy: 0.4207 - val_loss: 1.0594 - val_accuracy: 0.4205\n",
      "Epoch 5/20\n",
      "2136/2136 [==============================] - 2s 871us/step - loss: 1.0596 - accuracy: 0.4212 - val_loss: 1.0582 - val_accuracy: 0.4230\n",
      "Epoch 6/20\n",
      "2136/2136 [==============================] - 2s 881us/step - loss: 1.0585 - accuracy: 0.4246 - val_loss: 1.0582 - val_accuracy: 0.4231\n",
      "Epoch 7/20\n",
      "2136/2136 [==============================] - 2s 871us/step - loss: 1.0564 - accuracy: 0.4264 - val_loss: 1.0570 - val_accuracy: 0.4233\n",
      "Epoch 8/20\n",
      "2136/2136 [==============================] - 2s 886us/step - loss: 1.0548 - accuracy: 0.4286 - val_loss: 1.0599 - val_accuracy: 0.4215\n",
      "Epoch 9/20\n",
      "2136/2136 [==============================] - 2s 885us/step - loss: 1.0544 - accuracy: 0.4302 - val_loss: 1.0600 - val_accuracy: 0.4240\n",
      "Epoch 10/20\n",
      "2136/2136 [==============================] - 2s 874us/step - loss: 1.0522 - accuracy: 0.4332 - val_loss: 1.0631 - val_accuracy: 0.4213\n",
      "Epoch 11/20\n",
      "2136/2136 [==============================] - 2s 895us/step - loss: 1.0510 - accuracy: 0.4352 - val_loss: 1.0604 - val_accuracy: 0.4195\n",
      "Epoch 12/20\n",
      "2136/2136 [==============================] - 2s 878us/step - loss: 1.0500 - accuracy: 0.4319 - val_loss: 1.0611 - val_accuracy: 0.4220\n",
      "Epoch 13/20\n",
      "2136/2136 [==============================] - 2s 873us/step - loss: 1.0486 - accuracy: 0.4367 - val_loss: 1.0611 - val_accuracy: 0.4198\n",
      "Epoch 14/20\n",
      "2136/2136 [==============================] - 2s 892us/step - loss: 1.0474 - accuracy: 0.4373 - val_loss: 1.0606 - val_accuracy: 0.4205\n",
      "Epoch 15/20\n",
      "2136/2136 [==============================] - 2s 909us/step - loss: 1.0459 - accuracy: 0.4380 - val_loss: 1.0636 - val_accuracy: 0.4220\n",
      "Epoch 16/20\n",
      "2136/2136 [==============================] - 2s 895us/step - loss: 1.0454 - accuracy: 0.4394 - val_loss: 1.0627 - val_accuracy: 0.4170\n",
      "Epoch 17/20\n",
      "2136/2136 [==============================] - 2s 872us/step - loss: 1.0436 - accuracy: 0.4404 - val_loss: 1.0656 - val_accuracy: 0.4199\n",
      "Epoch 18/20\n",
      "2136/2136 [==============================] - 2s 865us/step - loss: 1.0418 - accuracy: 0.4432 - val_loss: 1.0641 - val_accuracy: 0.4181\n",
      "Epoch 19/20\n",
      "2136/2136 [==============================] - 2s 866us/step - loss: 1.0401 - accuracy: 0.4452 - val_loss: 1.0634 - val_accuracy: 0.4192\n",
      "Epoch 20/20\n",
      "2136/2136 [==============================] - 2s 888us/step - loss: 1.0397 - accuracy: 0.4451 - val_loss: 1.0643 - val_accuracy: 0.4190\n"
     ]
    },
    {
     "data": {
      "text/plain": [
       "<tensorflow.python.keras.callbacks.History at 0x2de03e55790>"
      ]
     },
     "execution_count": 17,
     "metadata": {},
     "output_type": "execute_result"
    }
   ],
   "source": [
    "history = model.fit(X_train, y_train, epochs=20, batch_size=50, validation_split=0.33)\n",
    "history"
   ]
  },
  {
   "cell_type": "code",
   "execution_count": 18,
   "metadata": {},
   "outputs": [
    {
     "name": "stdout",
     "output_type": "stream",
     "text": [
      "4982/4982 [==============================] - 3s 505us/step - loss: 1.0662 - accuracy: 0.4194\n",
      "Accuracy: 41.94%\n"
     ]
    }
   ],
   "source": [
    "scores = model.evaluate(X_test, y_test)\n",
    "print(\"Accuracy: %.2f%%\" % (scores[1]*100))"
   ]
  },
  {
   "cell_type": "code",
   "execution_count": 20,
   "metadata": {},
   "outputs": [],
   "source": [
    "y_pred = model.predict(X_test)"
   ]
  },
  {
   "cell_type": "code",
   "execution_count": 21,
   "metadata": {},
   "outputs": [
    {
     "data": {
      "text/plain": [
       "[Text(0, 0.5, 'Low'), Text(0, 1.5, 'Mid'), Text(0, 2.5, 'High')]"
      ]
     },
     "execution_count": 21,
     "metadata": {},
     "output_type": "execute_result"
    },
    {
     "data": {
      "image/png": "[encoded data removed]",
      "text/plain": [
       "<Figure size 1080x720 with 2 Axes>"
      ]
     },
     "metadata": {
      "needs_background": "light"
     },
     "output_type": "display_data"
    }
   ],
   "source": [
    "from sklearn.metrics import confusion_matrix\n",
    "import seaborn as sn\n",
    "\n",
    "labels = ['Low','Mid','High'] \n",
    "conf_mat = confusion_matrix(np.argmax(y_pred, axis = 1),y_test)\n",
    "conf_mat = conf_mat.astype('float') / conf_mat.sum(axis=1)[:, np.newaxis]\n",
    "df_cm = pd.DataFrame(conf_mat, range(3), range(3))\n",
    "df_cm\n",
    "\n",
    "fig, ax = plt.subplots(figsize=(15,10))\n",
    "sn.set(font_scale=1.4)\n",
    "sn.heatmap(df_cm, annot=True, cmap=\"Blues\", ax=ax) #annot=True to annotate cells, ftm='g' to disable scientific notation\n",
    "\n",
    "ax.set_title('Confusion Matrix')\n",
    "ax.xaxis.set_ticklabels(labels)\n",
    "ax.yaxis.set_ticklabels(labels)"
   ]
  },
  {
   "cell_type": "markdown",
   "metadata": {},
   "source": [
    "### Sensitivity Analysis\n"
   ]
  },
  {
   "cell_type": "code",
   "execution_count": 25,
   "metadata": {
    "collapsed": true
   },
   "outputs": [
    {
     "name": "stdout",
     "output_type": "stream",
     "text": [
      "0\n",
      "   1/4982 [..............................] - ETA: 0s - loss: 1.0924 - accuracy: 0.4375WARNING:tensorflow:Callbacks method `on_test_batch_begin` is slow compared to the batch time (batch time: 0.0000s vs `on_test_batch_begin` time: 0.0010s). Check your callbacks.\n",
      "4982/4982 [==============================] - 3s 511us/step - loss: 1.0659 - accuracy: 0.4194\n",
      "Accuracy: 41.94%\n",
      "1\n",
      "4982/4982 [==============================] - 3s 526us/step - loss: 1.0658 - accuracy: 0.4193\n",
      "Accuracy: 41.93%\n",
      "2\n",
      "4982/4982 [==============================] - 3s 519us/step - loss: 1.0659 - accuracy: 0.4193\n",
      "Accuracy: 41.93%\n",
      "3\n",
      "4982/4982 [==============================] - 2s 464us/step - loss: 1.0659 - accuracy: 0.4191\n",
      "Accuracy: 41.91%\n",
      "4\n",
      "4982/4982 [==============================] - 3s 511us/step - loss: 1.0691 - accuracy: 0.4143\n",
      "Accuracy: 41.43%\n",
      "5\n",
      "4982/4982 [==============================] - 3s 506us/step - loss: 1.0662 - accuracy: 0.4196\n",
      "Accuracy: 41.96%\n",
      "6\n",
      "4982/4982 [==============================] - 3s 520us/step - loss: 1.0661 - accuracy: 0.4187\n",
      "Accuracy: 41.87%\n",
      "7\n",
      "4982/4982 [==============================] - 3s 509us/step - loss: 1.0665 - accuracy: 0.4174\n",
      "Accuracy: 41.74%\n",
      "8\n",
      "   1/4982 [..............................] - ETA: 0s - loss: 1.0999 - accuracy: 0.4375WARNING:tensorflow:Callbacks method `on_test_batch_begin` is slow compared to the batch time (batch time: 0.0000s vs `on_test_batch_begin` time: 0.0010s). Check your callbacks.\n",
      "4982/4982 [==============================] - 2s 477us/step - loss: 1.0662 - accuracy: 0.4193\n",
      "Accuracy: 41.93%\n",
      "9\n",
      "4982/4982 [==============================] - 2s 461us/step - loss: 1.0662 - accuracy: 0.4190\n",
      "Accuracy: 41.90%\n",
      "10\n",
      "4982/4982 [==============================] - 2s 459us/step - loss: 1.0664 - accuracy: 0.4188\n",
      "Accuracy: 41.88%\n",
      "11\n",
      "   1/4982 [..............................] - ETA: 0s - loss: 1.0911 - accuracy: 0.4375WARNING:tensorflow:Callbacks method `on_test_batch_end` is slow compared to the batch time (batch time: 0.0000s vs `on_test_batch_end` time: 0.0010s). Check your callbacks.\n",
      "4982/4982 [==============================] - 3s 504us/step - loss: 1.0657 - accuracy: 0.4196\n",
      "Accuracy: 41.96%\n",
      "12\n",
      "4982/4982 [==============================] - 3s 516us/step - loss: 1.0657 - accuracy: 0.4202\n",
      "Accuracy: 42.02%\n",
      "13\n",
      "4982/4982 [==============================] - 2s 468us/step - loss: 1.0660 - accuracy: 0.4194\n",
      "Accuracy: 41.94%\n",
      "14\n",
      "4982/4982 [==============================] - 2s 455us/step - loss: 1.0661 - accuracy: 0.4201\n",
      "Accuracy: 42.01%\n",
      "15\n",
      "4982/4982 [==============================] - 2s 450us/step - loss: 1.0661 - accuracy: 0.4200\n",
      "Accuracy: 42.00%\n",
      "16\n",
      "4982/4982 [==============================] - 2s 456us/step - loss: 1.0661 - accuracy: 0.4198\n",
      "Accuracy: 41.98%\n",
      "17\n",
      "4982/4982 [==============================] - 2s 468us/step - loss: 1.0660 - accuracy: 0.4199\n",
      "Accuracy: 41.99%\n",
      "18\n",
      "4982/4982 [==============================] - 2s 454us/step - loss: 1.0663 - accuracy: 0.4192\n",
      "Accuracy: 41.92%\n",
      "19\n",
      "   1/4982 [..............................] - ETA: 0s - loss: 1.1009 - accuracy: 0.4062WARNING:tensorflow:Callbacks method `on_test_batch_end` is slow compared to the batch time (batch time: 0.0000s vs `on_test_batch_end` time: 0.0010s). Check your callbacks.\n",
      "4982/4982 [==============================] - 2s 447us/step - loss: 1.0663 - accuracy: 0.4192\n",
      "Accuracy: 41.92%\n",
      "20\n",
      "4982/4982 [==============================] - 2s 455us/step - loss: 1.0662 - accuracy: 0.4199\n",
      "Accuracy: 41.99%\n",
      "21\n",
      "4982/4982 [==============================] - 3s 508us/step - loss: 1.0659 - accuracy: 0.4195\n",
      "Accuracy: 41.95%\n",
      "22\n",
      "4982/4982 [==============================] - 3s 512us/step - loss: 1.0663 - accuracy: 0.4199\n",
      "Accuracy: 41.99%\n",
      "23\n",
      "4982/4982 [==============================] - 2s 491us/step - loss: 1.0659 - accuracy: 0.4194\n",
      "Accuracy: 41.94%\n",
      "24\n",
      "4982/4982 [==============================] - 3s 510us/step - loss: 1.0660 - accuracy: 0.4193\n",
      "Accuracy: 41.93%\n",
      "25\n",
      "4982/4982 [==============================] - 3s 503us/step - loss: 1.0661 - accuracy: 0.4192\n",
      "Accuracy: 41.92%\n",
      "26\n",
      "4982/4982 [==============================] - 3s 503us/step - loss: 1.0664 - accuracy: 0.4195\n",
      "Accuracy: 41.95%\n",
      "27\n",
      "4982/4982 [==============================] - 2s 495us/step - loss: 1.0665 - accuracy: 0.4192\n",
      "Accuracy: 41.92%\n",
      "28\n",
      "4982/4982 [==============================] - 2s 486us/step - loss: 1.0661 - accuracy: 0.4200\n",
      "Accuracy: 42.00%\n",
      "29\n",
      "4982/4982 [==============================] - 3s 520us/step - loss: 1.0665 - accuracy: 0.4194\n",
      "Accuracy: 41.94%\n",
      "30\n",
      "4982/4982 [==============================] - 3s 506us/step - loss: 1.0662 - accuracy: 0.4195\n",
      "Accuracy: 41.95%\n",
      "31\n",
      "4982/4982 [==============================] - 2s 465us/step - loss: 1.0661 - accuracy: 0.4199\n",
      "Accuracy: 41.99%\n",
      "32\n",
      "4982/4982 [==============================] - 2s 469us/step - loss: 1.0660 - accuracy: 0.4192\n",
      "Accuracy: 41.92%\n",
      "33\n",
      "4982/4982 [==============================] - 2s 501us/step - loss: 1.0659 - accuracy: 0.4199\n",
      "Accuracy: 41.99%\n",
      "34\n",
      "4982/4982 [==============================] - 2s 489us/step - loss: 1.0660 - accuracy: 0.4199\n",
      "Accuracy: 41.99%\n",
      "35\n",
      "4982/4982 [==============================] - 2s 488us/step - loss: 1.0660 - accuracy: 0.4196\n",
      "Accuracy: 41.96%\n",
      "36\n",
      "4982/4982 [==============================] - 2s 500us/step - loss: 1.0661 - accuracy: 0.4197\n",
      "Accuracy: 41.97%\n",
      "37\n",
      "4982/4982 [==============================] - 2s 497us/step - loss: 1.0660 - accuracy: 0.4200\n",
      "Accuracy: 42.00%\n",
      "38\n",
      "4982/4982 [==============================] - 2s 461us/step - loss: 1.0661 - accuracy: 0.4198\n",
      "Accuracy: 41.98%\n",
      "39\n",
      "4982/4982 [==============================] - 2s 482us/step - loss: 1.0659 - accuracy: 0.4197\n",
      "Accuracy: 41.97%\n",
      "40\n",
      "4982/4982 [==============================] - 2s 459us/step - loss: 1.0661 - accuracy: 0.4195\n",
      "Accuracy: 41.95%\n",
      "41\n",
      "4982/4982 [==============================] - 2s 460us/step - loss: 1.0661 - accuracy: 0.4191\n",
      "Accuracy: 41.91%\n",
      "42\n",
      "4982/4982 [==============================] - 2s 452us/step - loss: 1.0660 - accuracy: 0.4197\n",
      "Accuracy: 41.97%\n",
      "43\n",
      "4982/4982 [==============================] - 2s 453us/step - loss: 1.0660 - accuracy: 0.4198\n",
      "Accuracy: 41.98%\n",
      "44\n",
      "4982/4982 [==============================] - 2s 451us/step - loss: 1.0661 - accuracy: 0.4196\n",
      "Accuracy: 41.96%\n",
      "45\n",
      "4982/4982 [==============================] - 2s 500us/step - loss: 1.0660 - accuracy: 0.4200\n",
      "Accuracy: 42.00%\n",
      "46\n",
      "4982/4982 [==============================] - 2s 446us/step - loss: 1.0660 - accuracy: 0.4196\n",
      "Accuracy: 41.96%\n",
      "47\n",
      "4982/4982 [==============================] - 2s 462us/step - loss: 1.0661 - accuracy: 0.4197\n",
      "Accuracy: 41.97%\n",
      "48\n",
      "   1/4982 [..............................] - ETA: 0s - loss: 1.1028 - accuracy: 0.4375WARNING:tensorflow:Callbacks method `on_test_batch_end` is slow compared to the batch time (batch time: 0.0000s vs `on_test_batch_end` time: 0.0010s). Check your callbacks.\n",
      "4982/4982 [==============================] - 2s 458us/step - loss: 1.0660 - accuracy: 0.4193\n",
      "Accuracy: 41.93%\n",
      "49\n",
      "4982/4982 [==============================] - 2s 457us/step - loss: 1.0662 - accuracy: 0.4199\n",
      "Accuracy: 41.99%\n",
      "50\n",
      "4982/4982 [==============================] - 2s 471us/step - loss: 1.0660 - accuracy: 0.4195\n",
      "Accuracy: 41.95%\n",
      "51\n",
      "4982/4982 [==============================] - 2s 496us/step - loss: 1.0660 - accuracy: 0.4200\n",
      "Accuracy: 42.00%\n",
      "52\n",
      "4982/4982 [==============================] - 2s 487us/step - loss: 1.0662 - accuracy: 0.4197\n",
      "Accuracy: 41.97%\n",
      "53\n",
      "4982/4982 [==============================] - 2s 484us/step - loss: 1.0661 - accuracy: 0.4198\n",
      "Accuracy: 41.98%\n",
      "54\n",
      "   1/4982 [..............................] - ETA: 4s - loss: 1.1018 - accuracy: 0.4375WARNING:tensorflow:Callbacks method `on_test_batch_end` is slow compared to the batch time (batch time: 0.0000s vs `on_test_batch_end` time: 0.0010s). Check your callbacks.\n",
      "4982/4982 [==============================] - 2s 498us/step - loss: 1.0665 - accuracy: 0.4194\n",
      "Accuracy: 41.94%\n",
      "55\n",
      "4982/4982 [==============================] - 2s 490us/step - loss: 1.0660 - accuracy: 0.4201\n",
      "Accuracy: 42.01%\n",
      "56\n",
      "4982/4982 [==============================] - 2s 454us/step - loss: 1.0661 - accuracy: 0.4194\n",
      "Accuracy: 41.94%\n",
      "57\n",
      "4982/4982 [==============================] - 2s 454us/step - loss: 1.0663 - accuracy: 0.4187\n",
      "Accuracy: 41.87%\n",
      "58\n"
     ]
    },
    {
     "name": "stdout",
     "output_type": "stream",
     "text": [
      "4982/4982 [==============================] - 2s 446us/step - loss: 1.0657 - accuracy: 0.4194\n",
      "Accuracy: 41.94%\n",
      "59\n",
      "4982/4982 [==============================] - 2s 497us/step - loss: 1.0660 - accuracy: 0.4195\n",
      "Accuracy: 41.95%\n",
      "60\n",
      "   1/4982 [..............................] - ETA: 0s - loss: 1.0973 - accuracy: 0.4062WARNING:tensorflow:Callbacks method `on_test_batch_end` is slow compared to the batch time (batch time: 0.0000s vs `on_test_batch_end` time: 0.0010s). Check your callbacks.\n",
      "4982/4982 [==============================] - 2s 449us/step - loss: 1.0659 - accuracy: 0.4197\n",
      "Accuracy: 41.97%\n",
      "61\n",
      "4982/4982 [==============================] - 2s 446us/step - loss: 1.0661 - accuracy: 0.4199\n",
      "Accuracy: 41.99%\n",
      "62\n",
      "4982/4982 [==============================] - 3s 521us/step - loss: 1.0661 - accuracy: 0.4197\n",
      "Accuracy: 41.97%\n",
      "63\n",
      "4982/4982 [==============================] - 2s 454us/step - loss: 1.0661 - accuracy: 0.4199\n",
      "Accuracy: 41.99%\n",
      "64\n",
      "4982/4982 [==============================] - 2s 444us/step - loss: 1.0660 - accuracy: 0.4194\n",
      "Accuracy: 41.94%\n",
      "65\n",
      "4982/4982 [==============================] - 3s 522us/step - loss: 1.0660 - accuracy: 0.4198\n",
      "Accuracy: 41.98%\n",
      "66\n",
      "4982/4982 [==============================] - 3s 532us/step - loss: 1.0660 - accuracy: 0.4199\n",
      "Accuracy: 41.99%\n",
      "67\n",
      "4982/4982 [==============================] - 3s 513us/step - loss: 1.0660 - accuracy: 0.4193\n",
      "Accuracy: 41.93%\n",
      "68\n",
      "4982/4982 [==============================] - 3s 511us/step - loss: 1.0660 - accuracy: 0.4196\n",
      "Accuracy: 41.96%\n",
      "69\n",
      "4982/4982 [==============================] - 3s 507us/step - loss: 1.0661 - accuracy: 0.4196\n",
      "Accuracy: 41.96%\n",
      "70\n",
      "4982/4982 [==============================] - 3s 525us/step - loss: 1.0667 - accuracy: 0.4182\n",
      "Accuracy: 41.82%\n",
      "71\n",
      "4982/4982 [==============================] - 2s 474us/step - loss: 1.0665 - accuracy: 0.4196\n",
      "Accuracy: 41.96%\n",
      "72\n",
      "   1/4982 [..............................] - ETA: 0s - loss: 1.0965 - accuracy: 0.4062WARNING:tensorflow:Callbacks method `on_test_batch_begin` is slow compared to the batch time (batch time: 0.0000s vs `on_test_batch_begin` time: 0.0010s). Check your callbacks.\n",
      "4982/4982 [==============================] - 3s 525us/step - loss: 1.0670 - accuracy: 0.4190\n",
      "Accuracy: 41.90%\n",
      "73\n",
      "4982/4982 [==============================] - 2s 468us/step - loss: 1.0670 - accuracy: 0.4189\n",
      "Accuracy: 41.89%\n",
      "74\n",
      "4982/4982 [==============================] - 3s 524us/step - loss: 1.0668 - accuracy: 0.4182\n",
      "Accuracy: 41.82%\n",
      "75\n",
      "4982/4982 [==============================] - 2s 486us/step - loss: 1.0664 - accuracy: 0.4196\n",
      "Accuracy: 41.96%\n",
      "76\n",
      "4982/4982 [==============================] - 3s 512us/step - loss: 1.0664 - accuracy: 0.4194\n",
      "Accuracy: 41.94%\n",
      "77\n",
      "4982/4982 [==============================] - 3s 517us/step - loss: 1.0663 - accuracy: 0.4190\n",
      "Accuracy: 41.90%\n",
      "78\n",
      "4982/4982 [==============================] - 3s 536us/step - loss: 1.0665 - accuracy: 0.4191\n",
      "Accuracy: 41.91%\n",
      "79\n",
      "4982/4982 [==============================] - 3s 516us/step - loss: 1.0662 - accuracy: 0.4194\n",
      "Accuracy: 41.94%\n",
      "80\n",
      "4982/4982 [==============================] - 3s 517us/step - loss: 1.0665 - accuracy: 0.4196\n",
      "Accuracy: 41.96%\n",
      "81\n",
      "4982/4982 [==============================] - 2s 452us/step - loss: 1.0666 - accuracy: 0.4190\n",
      "Accuracy: 41.90%\n",
      "82\n",
      "4982/4982 [==============================] - 2s 453us/step - loss: 1.0663 - accuracy: 0.4189\n",
      "Accuracy: 41.89%\n",
      "83\n",
      "4982/4982 [==============================] - 2s 447us/step - loss: 1.0663 - accuracy: 0.4191\n",
      "Accuracy: 41.91%\n",
      "84\n",
      "4982/4982 [==============================] - 2s 492us/step - loss: 1.0662 - accuracy: 0.4191\n",
      "Accuracy: 41.91%\n",
      "85\n",
      "4982/4982 [==============================] - 3s 525us/step - loss: 1.0667 - accuracy: 0.4191\n",
      "Accuracy: 41.91%\n",
      "86\n",
      "4982/4982 [==============================] - 3s 525us/step - loss: 1.0664 - accuracy: 0.4196\n",
      "Accuracy: 41.96%\n",
      "87\n",
      "4982/4982 [==============================] - 2s 485us/step - loss: 1.0665 - accuracy: 0.4178\n",
      "Accuracy: 41.78%\n",
      "88\n",
      "   1/4982 [..............................] - ETA: 0s - loss: 1.1000 - accuracy: 0.4375WARNING:tensorflow:Callbacks method `on_test_batch_end` is slow compared to the batch time (batch time: 0.0000s vs `on_test_batch_end` time: 0.0010s). Check your callbacks.\n",
      "4982/4982 [==============================] - 3s 529us/step - loss: 1.0670 - accuracy: 0.4178\n",
      "Accuracy: 41.78%\n",
      "89\n",
      "4982/4982 [==============================] - 3s 519us/step - loss: 1.0657 - accuracy: 0.4191\n",
      "Accuracy: 41.91%\n",
      "90\n",
      "4982/4982 [==============================] - 2s 454us/step - loss: 1.0664 - accuracy: 0.4193\n",
      "Accuracy: 41.93%\n",
      "91\n",
      "   1/4982 [..............................] - ETA: 0s - loss: 1.0989 - accuracy: 0.4375WARNING:tensorflow:Callbacks method `on_test_batch_end` is slow compared to the batch time (batch time: 0.0000s vs `on_test_batch_end` time: 0.0010s). Check your callbacks.\n",
      "4982/4982 [==============================] - 2s 454us/step - loss: 1.0662 - accuracy: 0.4194\n",
      "Accuracy: 41.94%\n"
     ]
    }
   ],
   "source": [
    "delta_accuracy_list = []\n",
    "accuracy_list = []\n",
    "for column_index in range(X_test.shape[1]):\n",
    "    print(column_index)\n",
    "    columns_test = X_test.copy()\n",
    "    columns_test[:, column_index] = 0\n",
    "    \n",
    "    score = model.evaluate(columns_test, y_test)\n",
    "    print(\"Accuracy: %.2f%%\" % (score[1]*100))\n",
    "    \n",
    "    delta_accuracy = scores[1]*100 - score[1]*100\n",
    "    delta_accuracy_list.append(delta_accuracy)\n",
    "    accuracy_list.append(score[1]*100)"
   ]
  },
  {
   "cell_type": "code",
   "execution_count": 26,
   "metadata": {},
   "outputs": [
    {
     "data": {
      "text/html": [
       "<div>\n",
       "<style scoped>\n",
       "    .dataframe tbody tr th:only-of-type {\n",
       "        vertical-align: middle;\n",
       "    }\n",
       "\n",
       "    .dataframe tbody tr th {\n",
       "        vertical-align: top;\n",
       "    }\n",
       "\n",
       "    .dataframe thead th {\n",
       "        text-align: right;\n",
       "    }\n",
       "</style>\n",
       "<table border=\"1\" class=\"dataframe\">\n",
       "  <thead>\n",
       "    <tr style=\"text-align: right;\">\n",
       "      <th></th>\n",
       "      <th>Predictor</th>\n",
       "      <th>Delta Accurancy</th>\n",
       "    </tr>\n",
       "  </thead>\n",
       "  <tbody>\n",
       "    <tr>\n",
       "      <th>0</th>\n",
       "      <td>HL/O</td>\n",
       "      <td>0.50755</td>\n",
       "    </tr>\n",
       "    <tr>\n",
       "      <th>1</th>\n",
       "      <td>Number of trades</td>\n",
       "      <td>0.20390</td>\n",
       "    </tr>\n",
       "    <tr>\n",
       "      <th>2</th>\n",
       "      <td>BTC HL/O</td>\n",
       "      <td>0.15810</td>\n",
       "    </tr>\n",
       "    <tr>\n",
       "      <th>3</th>\n",
       "      <td>BTC Close Ratio</td>\n",
       "      <td>0.15559</td>\n",
       "    </tr>\n",
       "    <tr>\n",
       "      <th>4</th>\n",
       "      <td>55m</td>\n",
       "      <td>0.11857</td>\n",
       "    </tr>\n",
       "    <tr>\n",
       "      <th>5</th>\n",
       "      <td>Close Ratio</td>\n",
       "      <td>0.11732</td>\n",
       "    </tr>\n",
       "    <tr>\n",
       "      <th>6</th>\n",
       "      <td>Week4</td>\n",
       "      <td>0.07278</td>\n",
       "    </tr>\n",
       "    <tr>\n",
       "      <th>7</th>\n",
       "      <td>Quote asset volume</td>\n",
       "      <td>0.07027</td>\n",
       "    </tr>\n",
       "    <tr>\n",
       "      <th>8</th>\n",
       "      <td>Year</td>\n",
       "      <td>0.05835</td>\n",
       "    </tr>\n",
       "    <tr>\n",
       "      <th>9</th>\n",
       "      <td>BTC Taker buy base asset volume</td>\n",
       "      <td>0.05458</td>\n",
       "    </tr>\n",
       "  </tbody>\n",
       "</table>\n",
       "</div>"
      ],
      "text/plain": [
       "                         Predictor  Delta Accurancy\n",
       "0                             HL/O          0.50755\n",
       "1                 Number of trades          0.20390\n",
       "2                         BTC HL/O          0.15810\n",
       "3                  BTC Close Ratio          0.15559\n",
       "4                              55m          0.11857\n",
       "5                      Close Ratio          0.11732\n",
       "6                            Week4          0.07278\n",
       "7               Quote asset volume          0.07027\n",
       "8                             Year          0.05835\n",
       "9  BTC Taker buy base asset volume          0.05458"
      ]
     },
     "execution_count": 26,
     "metadata": {},
     "output_type": "execute_result"
    }
   ],
   "source": [
    "delta_accuracy_df = pd.DataFrame(np.array([list(ada.columns.values), [round(elem, 5) for elem in delta_accuracy_list]]).transpose(), columns = ['Predictor', 'Delta Accurancy'])\n",
    "delta_accuracy_df['Delta Accurancy'] = np.float32(delta_accuracy_df['Delta Accurancy'])\n",
    "delta_accuracy_df = delta_accuracy_df.sort_values(['Delta Accurancy'], ascending=False).reset_index(drop=True)\n",
    "\n",
    "delta_accuracy_df.iloc[:10, :]"
   ]
  },
  {
   "cell_type": "code",
   "execution_count": 27,
   "metadata": {},
   "outputs": [
    {
     "data": {
      "image/png": "[encoded data removed]",
      "text/plain": [
       "<Figure size 1080x720 with 1 Axes>"
      ]
     },
     "metadata": {},
     "output_type": "display_data"
    }
   ],
   "source": [
    "plt.figure(figsize=(15, 10))\n",
    "plt.rcParams.update({'font.size': 16})\n",
    "plt.bar(delta_accuracy_df.iloc[:10, :]['Predictor'], \n",
    "        delta_accuracy_df.iloc[:10, :]['Delta Accurancy'],\n",
    "       color=(0.2, 0.4, 0.6, 0.6))\n",
    "\n",
    "plt.xlabel('Predictor')\n",
    "plt.ylabel('Delta Accurancy')\n",
    "plt.xticks(delta_accuracy_df.iloc[:10, :]['Predictor'])\n",
    "plt.xticks(rotation=90)\n",
    "plt.grid(True)\n",
    "\n",
    "plt.show()"
   ]
  },
  {
   "cell_type": "markdown",
   "metadata": {},
   "source": [
    "## 3- LSTM"
   ]
  },
  {
   "cell_type": "code",
   "execution_count": 133,
   "metadata": {},
   "outputs": [
    {
     "data": {
      "text/plain": [
       "159394"
      ]
     },
     "execution_count": 133,
     "metadata": {},
     "output_type": "execute_result"
    }
   ],
   "source": [
    "import math\n",
    "\n",
    "training_data_size = math.ceil(len(ada_returns)*0.5)\n",
    "training_data_size"
   ]
  },
  {
   "cell_type": "code",
   "execution_count": 134,
   "metadata": {},
   "outputs": [],
   "source": [
    "X_train2 = ada[0:training_data_size]\n",
    "y_train2 = ada_returns[0:training_data_size]"
   ]
  },
  {
   "cell_type": "code",
   "execution_count": 135,
   "metadata": {},
   "outputs": [],
   "source": [
    "X_test2 = ada[training_data_size:]\n",
    "y_test2 = ada_returns[training_data_size:]"
   ]
  },
  {
   "cell_type": "code",
   "execution_count": 137,
   "metadata": {},
   "outputs": [],
   "source": [
    "window_size = 11\n",
    "X_train_lags = []\n",
    "y_train_lags = []\n",
    "for i in range(window_size, len(X_train2)):\n",
    "    X_train_lags.append(X_train2[i-window_size:i])\n",
    "    y_train_lags.append(y_train2[i-1])"
   ]
  },
  {
   "cell_type": "code",
   "execution_count": 138,
   "metadata": {},
   "outputs": [],
   "source": [
    "X_train_lags = np.array(X_train_lags)"
   ]
  },
  {
   "cell_type": "code",
   "execution_count": 139,
   "metadata": {},
   "outputs": [
    {
     "name": "stdout",
     "output_type": "stream",
     "text": [
      "Shape of label tensor: (159383, 3)\n"
     ]
    }
   ],
   "source": [
    "y_train_lags = pd.get_dummies(y_train_lags).values\n",
    "y_train_lags = np.array(y_train_lags)\n",
    "print('Shape of label tensor:', y_train_lags.shape)"
   ]
  },
  {
   "cell_type": "code",
   "execution_count": 140,
   "metadata": {},
   "outputs": [
    {
     "name": "stdout",
     "output_type": "stream",
     "text": [
      "11 92 3\n"
     ]
    }
   ],
   "source": [
    "epochs, batch_size = 10, 100\n",
    "n_timesteps, n_features, n_outputs = X_train_lags.shape[1], X_train_lags.shape[2], y_train_lags.shape[1]\n",
    "print(n_timesteps, n_features, n_outputs)\n",
    "model = Sequential()\n",
    "model.add(LSTM(100, input_shape=(n_timesteps,n_features)))\n",
    "model.add(Dropout(0.2))\n",
    "model.add(Dense(50, activation='relu'))\n",
    "model.add(Dense(n_outputs, activation='softmax'))\n",
    "model.compile(loss='categorical_crossentropy', optimizer='adam', metrics=['accuracy'])"
   ]
  },
  {
   "cell_type": "code",
   "execution_count": 141,
   "metadata": {},
   "outputs": [
    {
     "name": "stdout",
     "output_type": "stream",
     "text": [
      "Model: \"sequential_5\"\n",
      "_________________________________________________________________\n",
      "Layer (type)                 Output Shape              Param #   \n",
      "=================================================================\n",
      "lstm_4 (LSTM)                (None, 100)               77200     \n",
      "_________________________________________________________________\n",
      "dropout_5 (Dropout)          (None, 100)               0         \n",
      "_________________________________________________________________\n",
      "dense_12 (Dense)             (None, 50)                5050      \n",
      "_________________________________________________________________\n",
      "dense_13 (Dense)             (None, 3)                 153       \n",
      "=================================================================\n",
      "Total params: 82,403\n",
      "Trainable params: 82,403\n",
      "Non-trainable params: 0\n",
      "_________________________________________________________________\n"
     ]
    }
   ],
   "source": [
    "model.summary()"
   ]
  },
  {
   "cell_type": "code",
   "execution_count": 142,
   "metadata": {
    "collapsed": true
   },
   "outputs": [
    {
     "name": "stdout",
     "output_type": "stream",
     "text": [
      "Epoch 1/10\n",
      "1068/1068 [==============================] - 7s 6ms/step - loss: 1.0605 - accuracy: 0.4209 - val_loss: 1.0789 - val_accuracy: 0.4159\n",
      "Epoch 2/10\n",
      "1068/1068 [==============================] - 7s 6ms/step - loss: 1.0493 - accuracy: 0.4381 - val_loss: 1.0828 - val_accuracy: 0.4177\n",
      "Epoch 3/10\n",
      "1068/1068 [==============================] - 7s 6ms/step - loss: 1.0450 - accuracy: 0.4453 - val_loss: 1.0854 - val_accuracy: 0.4197\n",
      "Epoch 4/10\n",
      "1068/1068 [==============================] - 6s 6ms/step - loss: 1.0401 - accuracy: 0.4527 - val_loss: 1.0877 - val_accuracy: 0.4205\n",
      "Epoch 5/10\n",
      "1068/1068 [==============================] - 7s 6ms/step - loss: 1.0350 - accuracy: 0.4600 - val_loss: 1.0902 - val_accuracy: 0.4228\n",
      "Epoch 6/10\n",
      "1068/1068 [==============================] - 7s 6ms/step - loss: 1.0285 - accuracy: 0.4688 - val_loss: 1.1030 - val_accuracy: 0.4223\n",
      "Epoch 7/10\n",
      "1068/1068 [==============================] - 7s 6ms/step - loss: 1.0210 - accuracy: 0.4767 - val_loss: 1.1134 - val_accuracy: 0.4199\n",
      "Epoch 8/10\n",
      "1068/1068 [==============================] - 7s 6ms/step - loss: 1.0133 - accuracy: 0.4852 - val_loss: 1.1188 - val_accuracy: 0.4204\n",
      "Epoch 9/10\n",
      "1068/1068 [==============================] - 7s 6ms/step - loss: 1.0042 - accuracy: 0.4930 - val_loss: 1.1333 - val_accuracy: 0.4215\n",
      "Epoch 10/10\n",
      "1068/1068 [==============================] - 6s 6ms/step - loss: 0.9945 - accuracy: 0.5004 - val_loss: 1.1464 - val_accuracy: 0.4208\n"
     ]
    },
    {
     "data": {
      "text/plain": [
       "<tensorflow.python.keras.callbacks.History at 0x2de2d3776d0>"
      ]
     },
     "execution_count": 142,
     "metadata": {},
     "output_type": "execute_result"
    }
   ],
   "source": [
    "model.fit(X_train_lags, y_train_lags, epochs=epochs, batch_size=batch_size, validation_split=0.33)"
   ]
  },
  {
   "cell_type": "code",
   "execution_count": 143,
   "metadata": {},
   "outputs": [],
   "source": [
    "#test set\n",
    "\n",
    "X_test_lags = []\n",
    "y_test_lags = []\n",
    "for i in range(window_size, len(X_test2)):\n",
    "    X_test_lags.append(X_test2[i-window_size:i])\n",
    "    y_test_lags.append(y_test2[i-1])"
   ]
  },
  {
   "cell_type": "code",
   "execution_count": 144,
   "metadata": {},
   "outputs": [
    {
     "name": "stdout",
     "output_type": "stream",
     "text": [
      "Shape of label tensor: (159382, 3)\n"
     ]
    }
   ],
   "source": [
    "X_test_lags = np.array(X_test_lags)\n",
    "y_test_lags = pd.get_dummies(y_test_lags).values\n",
    "y_test_lags = np.array(y_test_lags)\n",
    "print('Shape of label tensor:', y_test_lags.shape)"
   ]
  },
  {
   "cell_type": "code",
   "execution_count": 145,
   "metadata": {
    "scrolled": true
   },
   "outputs": [
    {
     "data": {
      "text/plain": [
       "array([[0.28734922, 0.57271415, 0.13993669],\n",
       "       [0.23154879, 0.6629941 , 0.10545717],\n",
       "       [0.25544038, 0.5854915 , 0.15906812],\n",
       "       ...,\n",
       "       [0.44867635, 0.19735764, 0.35396606],\n",
       "       [0.4407935 , 0.22268693, 0.33651957],\n",
       "       [0.46706593, 0.23874141, 0.2941926 ]], dtype=float32)"
      ]
     },
     "execution_count": 145,
     "metadata": {},
     "output_type": "execute_result"
    }
   ],
   "source": [
    "model.predict(X_test_lags)"
   ]
  },
  {
   "cell_type": "code",
   "execution_count": 146,
   "metadata": {},
   "outputs": [
    {
     "name": "stdout",
     "output_type": "stream",
     "text": [
      "4981/4981 [==============================] - 6s 1ms/step - loss: 1.1728 - accuracy: 0.3985\n",
      "Accuracy: 39.85%\n"
     ]
    }
   ],
   "source": [
    "scores = model.evaluate(X_test_lags, y_test_lags)\n",
    "print(\"Accuracy: %.2f%%\" % (scores[1]*100))"
   ]
  },
  {
   "cell_type": "code",
   "execution_count": 147,
   "metadata": {},
   "outputs": [],
   "source": [
    "y_pred = model.predict(X_test_lags)"
   ]
  },
  {
   "cell_type": "code",
   "execution_count": 148,
   "metadata": {},
   "outputs": [
    {
     "name": "stdout",
     "output_type": "stream",
     "text": [
      "[[0.28734922 0.57271415 0.13993669]\n",
      " [0.23154879 0.6629941  0.10545717]\n",
      " [0.25544038 0.5854915  0.15906812]\n",
      " ...\n",
      " [0.44867635 0.19735764 0.35396606]\n",
      " [0.4407935  0.22268693 0.33651957]\n",
      " [0.46706593 0.23874141 0.2941926 ]]\n"
     ]
    }
   ],
   "source": [
    "labels = ['High','Low','Mid'] \n",
    "print(y_pred)"
   ]
  },
  {
   "cell_type": "code",
   "execution_count": 149,
   "metadata": {},
   "outputs": [],
   "source": [
    "y_pred_label = np.argmax(y_pred, axis = 1)"
   ]
  },
  {
   "cell_type": "code",
   "execution_count": 150,
   "metadata": {},
   "outputs": [],
   "source": [
    "y_test_label = np.argmax(y_test_lags, axis = 1)"
   ]
  },
  {
   "cell_type": "code",
   "execution_count": 151,
   "metadata": {},
   "outputs": [
    {
     "data": {
      "text/plain": [
       "0.39847034169479617"
      ]
     },
     "execution_count": 151,
     "metadata": {},
     "output_type": "execute_result"
    }
   ],
   "source": [
    "count = 0\n",
    "for i in range(len(y_pred_label)):\n",
    "    if y_pred_label[i] == y_test_label[i]:\n",
    "        count += 1\n",
    "count / len(y_pred_label)"
   ]
  },
  {
   "cell_type": "code",
   "execution_count": 152,
   "metadata": {},
   "outputs": [],
   "source": [
    "conf_mat = confusion_matrix(np.argmax(y_pred, axis = 1),np.argmax(y_test_lags, axis = 1))"
   ]
  },
  {
   "cell_type": "code",
   "execution_count": 153,
   "metadata": {},
   "outputs": [],
   "source": [
    "conf_mat = conf_mat.astype('float') / conf_mat.sum(axis=1)[:, np.newaxis]"
   ]
  },
  {
   "cell_type": "code",
   "execution_count": 154,
   "metadata": {},
   "outputs": [
    {
     "data": {
      "text/plain": [
       "array([[0.36205073, 0.2648275 , 0.37312177],\n",
       "       [0.25731385, 0.46915906, 0.2735271 ],\n",
       "       [0.35350793, 0.2461242 , 0.40036787]])"
      ]
     },
     "execution_count": 154,
     "metadata": {},
     "output_type": "execute_result"
    }
   ],
   "source": [
    "conf_mat"
   ]
  },
  {
   "cell_type": "code",
   "execution_count": 155,
   "metadata": {},
   "outputs": [
    {
     "data": {
      "text/html": [
       "<div>\n",
       "<style scoped>\n",
       "    .dataframe tbody tr th:only-of-type {\n",
       "        vertical-align: middle;\n",
       "    }\n",
       "\n",
       "    .dataframe tbody tr th {\n",
       "        vertical-align: top;\n",
       "    }\n",
       "\n",
       "    .dataframe thead th {\n",
       "        text-align: right;\n",
       "    }\n",
       "</style>\n",
       "<table border=\"1\" class=\"dataframe\">\n",
       "  <thead>\n",
       "    <tr style=\"text-align: right;\">\n",
       "      <th></th>\n",
       "      <th>0</th>\n",
       "      <th>1</th>\n",
       "      <th>2</th>\n",
       "    </tr>\n",
       "  </thead>\n",
       "  <tbody>\n",
       "    <tr>\n",
       "      <th>0</th>\n",
       "      <td>0.362051</td>\n",
       "      <td>0.264828</td>\n",
       "      <td>0.373122</td>\n",
       "    </tr>\n",
       "    <tr>\n",
       "      <th>1</th>\n",
       "      <td>0.257314</td>\n",
       "      <td>0.469159</td>\n",
       "      <td>0.273527</td>\n",
       "    </tr>\n",
       "    <tr>\n",
       "      <th>2</th>\n",
       "      <td>0.353508</td>\n",
       "      <td>0.246124</td>\n",
       "      <td>0.400368</td>\n",
       "    </tr>\n",
       "  </tbody>\n",
       "</table>\n",
       "</div>"
      ],
      "text/plain": [
       "          0         1         2\n",
       "0  0.362051  0.264828  0.373122\n",
       "1  0.257314  0.469159  0.273527\n",
       "2  0.353508  0.246124  0.400368"
      ]
     },
     "execution_count": 155,
     "metadata": {},
     "output_type": "execute_result"
    }
   ],
   "source": [
    "df_cm = pd.DataFrame(conf_mat, range(3), range(3))\n",
    "df_cm"
   ]
  },
  {
   "cell_type": "code",
   "execution_count": 156,
   "metadata": {},
   "outputs": [
    {
     "data": {
      "text/plain": [
       "[Text(0, 0.5, 'High'), Text(0, 1.5, 'Low'), Text(0, 2.5, 'Mid')]"
      ]
     },
     "execution_count": 156,
     "metadata": {},
     "output_type": "execute_result"
    },
    {
     "data": {
      "image/png": "[encoded data removed]",
      "text/plain": [
       "<Figure size 1080x720 with 2 Axes>"
      ]
     },
     "metadata": {},
     "output_type": "display_data"
    }
   ],
   "source": [
    "fig, ax = plt.subplots(figsize=(15,10))\n",
    "sn.set(font_scale=1.4)\n",
    "sn.heatmap(df_cm, annot=True, cmap=\"Purples\", ax=ax) #annot=True to annotate cells, ftm='g' to disable scientific notation\n",
    "\n",
    "# labels, title and ticks\n",
    "# ax.set_xlabel('Predicted labels')\n",
    "# ax.set_ylabel('True labels')\n",
    "ax.set_title('Confusion Matrix')\n",
    "ax.xaxis.set_ticklabels(labels)\n",
    "ax.yaxis.set_ticklabels(labels)"
   ]
  },
  {
   "cell_type": "markdown",
   "metadata": {},
   "source": [
    "### Sensitivity Analysis\n"
   ]
  },
  {
   "cell_type": "code",
   "execution_count": 168,
   "metadata": {},
   "outputs": [
    {
     "data": {
      "text/plain": [
       "(159382, 11, 92)"
      ]
     },
     "execution_count": 168,
     "metadata": {},
     "output_type": "execute_result"
    }
   ],
   "source": [
    "X_test_lags.shape"
   ]
  },
  {
   "cell_type": "code",
   "execution_count": 171,
   "metadata": {
    "collapsed": true
   },
   "outputs": [
    {
     "name": "stdout",
     "output_type": "stream",
     "text": [
      "0\n",
      "4981/4981 [==============================] - 6s 1ms/step - loss: 1.1786 - accuracy: 0.3985\n",
      "Accuracy: 39.85%\n",
      "1\n",
      "4981/4981 [==============================] - 6s 1ms/step - loss: 1.1765 - accuracy: 0.3987\n",
      "Accuracy: 39.87%\n",
      "2\n",
      "4981/4981 [==============================] - 6s 1ms/step - loss: 1.1735 - accuracy: 0.3976\n",
      "Accuracy: 39.76%\n",
      "3\n",
      "4981/4981 [==============================] - 6s 1ms/step - loss: 1.1706 - accuracy: 0.3982\n",
      "Accuracy: 39.82%\n",
      "4\n",
      "4981/4981 [==============================] - 6s 1ms/step - loss: 1.1798 - accuracy: 0.3855\n",
      "Accuracy: 38.55%\n",
      "5\n",
      "4981/4981 [==============================] - 6s 1ms/step - loss: 1.1689 - accuracy: 0.3977\n",
      "Accuracy: 39.77%\n",
      "6\n",
      "4981/4981 [==============================] - 6s 1ms/step - loss: 1.1680 - accuracy: 0.3984: 0s - loss: 1.1699 - \n",
      "Accuracy: 39.84%\n",
      "7\n",
      "4981/4981 [==============================] - 6s 1ms/step - loss: 1.1743 - accuracy: 0.3943\n",
      "Accuracy: 39.43%\n",
      "8\n",
      "4981/4981 [==============================] - 6s 1ms/step - loss: 1.1763 - accuracy: 0.3977\n",
      "Accuracy: 39.77%\n",
      "9\n",
      "4981/4981 [==============================] - 6s 1ms/step - loss: 1.1856 - accuracy: 0.3967\n",
      "Accuracy: 39.67%\n",
      "10\n",
      "4981/4981 [==============================] - 6s 1ms/step - loss: 1.1663 - accuracy: 0.3984\n",
      "Accuracy: 39.84%\n",
      "11\n",
      "4981/4981 [==============================] - 6s 1ms/step - loss: 1.1726 - accuracy: 0.3985\n",
      "Accuracy: 39.85%\n",
      "12\n",
      "4981/4981 [==============================] - 6s 1ms/step - loss: 1.1736 - accuracy: 0.3989\n",
      "Accuracy: 39.89%\n",
      "13\n",
      "4981/4981 [==============================] - 6s 1ms/step - loss: 1.1732 - accuracy: 0.3991\n",
      "Accuracy: 39.91%\n",
      "14\n",
      "4981/4981 [==============================] - 6s 1ms/step - loss: 1.1739 - accuracy: 0.3984\n",
      "Accuracy: 39.84%\n",
      "15\n",
      "4981/4981 [==============================] - 6s 1ms/step - loss: 1.1715 - accuracy: 0.3987\n",
      "Accuracy: 39.87%\n",
      "16\n",
      "4981/4981 [==============================] - 6s 1ms/step - loss: 1.1722 - accuracy: 0.3989\n",
      "Accuracy: 39.89%\n",
      "17\n",
      "4981/4981 [==============================] - 6s 1ms/step - loss: 1.1737 - accuracy: 0.3983\n",
      "Accuracy: 39.83%\n",
      "18\n",
      "4981/4981 [==============================] - 6s 1ms/step - loss: 1.1730 - accuracy: 0.3985\n",
      "Accuracy: 39.85%\n",
      "19\n",
      "4981/4981 [==============================] - 6s 1ms/step - loss: 1.1729 - accuracy: 0.3989\n",
      "Accuracy: 39.89%\n",
      "20\n",
      "4981/4981 [==============================] - 6s 1ms/step - loss: 1.1724 - accuracy: 0.3985\n",
      "Accuracy: 39.85%\n",
      "21\n",
      "4981/4981 [==============================] - 6s 1ms/step - loss: 1.1722 - accuracy: 0.3988\n",
      "Accuracy: 39.88%\n",
      "22\n",
      "4981/4981 [==============================] - 6s 1ms/step - loss: 1.1740 - accuracy: 0.3979\n",
      "Accuracy: 39.79%\n",
      "23\n",
      "4981/4981 [==============================] - 6s 1ms/step - loss: 1.1729 - accuracy: 0.3983\n",
      "Accuracy: 39.83%\n",
      "24\n",
      "4981/4981 [==============================] - 6s 1ms/step - loss: 1.1726 - accuracy: 0.3993\n",
      "Accuracy: 39.93%\n",
      "25\n",
      "4981/4981 [==============================] - 6s 1ms/step - loss: 1.1716 - accuracy: 0.3991\n",
      "Accuracy: 39.91%\n",
      "26\n",
      "4981/4981 [==============================] - 6s 1ms/step - loss: 1.1730 - accuracy: 0.3980\n",
      "Accuracy: 39.80%\n",
      "27\n",
      "4981/4981 [==============================] - 6s 1ms/step - loss: 1.1731 - accuracy: 0.3985\n",
      "Accuracy: 39.85%\n",
      "28\n",
      "4981/4981 [==============================] - 6s 1ms/step - loss: 1.1719 - accuracy: 0.3990\n",
      "Accuracy: 39.90%\n",
      "29\n",
      "4981/4981 [==============================] - 6s 1ms/step - loss: 1.1725 - accuracy: 0.3993\n",
      "Accuracy: 39.93%\n",
      "30\n",
      "4981/4981 [==============================] - 6s 1ms/step - loss: 1.1727 - accuracy: 0.3990\n",
      "Accuracy: 39.90%\n",
      "31\n",
      "4981/4981 [==============================] - 6s 1ms/step - loss: 1.1727 - accuracy: 0.3981\n",
      "Accuracy: 39.81%\n",
      "32\n",
      "4981/4981 [==============================] - 6s 1ms/step - loss: 1.1726 - accuracy: 0.3988\n",
      "Accuracy: 39.88%\n",
      "33\n",
      "4981/4981 [==============================] - 6s 1ms/step - loss: 1.1726 - accuracy: 0.3985\n",
      "Accuracy: 39.85%\n",
      "34\n",
      "4981/4981 [==============================] - 6s 1ms/step - loss: 1.1731 - accuracy: 0.3989\n",
      "Accuracy: 39.89%\n",
      "35\n",
      "4981/4981 [==============================] - 6s 1ms/step - loss: 1.1728 - accuracy: 0.3987\n",
      "Accuracy: 39.87%\n",
      "36\n",
      "4981/4981 [==============================] - 6s 1ms/step - loss: 1.1732 - accuracy: 0.3987\n",
      "Accuracy: 39.87%\n",
      "37\n",
      "4981/4981 [==============================] - 6s 1ms/step - loss: 1.1725 - accuracy: 0.3983\n",
      "Accuracy: 39.83%\n",
      "38\n",
      "4981/4981 [==============================] - 6s 1ms/step - loss: 1.1734 - accuracy: 0.3989\n",
      "Accuracy: 39.89%\n",
      "39\n",
      "4981/4981 [==============================] - 6s 1ms/step - loss: 1.1724 - accuracy: 0.3987\n",
      "Accuracy: 39.87%\n",
      "40\n",
      "4981/4981 [==============================] - 6s 1ms/step - loss: 1.1731 - accuracy: 0.3987\n",
      "Accuracy: 39.87%\n",
      "41\n",
      "4981/4981 [==============================] - 6s 1ms/step - loss: 1.1731 - accuracy: 0.3991\n",
      "Accuracy: 39.91%\n",
      "42\n",
      "4981/4981 [==============================] - 6s 1ms/step - loss: 1.1732 - accuracy: 0.3985\n",
      "Accuracy: 39.85%\n",
      "43\n",
      "4981/4981 [==============================] - 6s 1ms/step - loss: 1.1732 - accuracy: 0.3985\n",
      "Accuracy: 39.85%\n",
      "44\n",
      "4981/4981 [==============================] - 6s 1ms/step - loss: 1.1731 - accuracy: 0.3987\n",
      "Accuracy: 39.87%\n",
      "45\n",
      "4981/4981 [==============================] - 6s 1ms/step - loss: 1.1733 - accuracy: 0.3982\n",
      "Accuracy: 39.82%\n",
      "46\n",
      "4981/4981 [==============================] - 6s 1ms/step - loss: 1.1732 - accuracy: 0.3981\n",
      "Accuracy: 39.81%\n",
      "47\n",
      "4981/4981 [==============================] - 6s 1ms/step - loss: 1.1723 - accuracy: 0.3987\n",
      "Accuracy: 39.87%\n",
      "48\n",
      "4981/4981 [==============================] - 6s 1ms/step - loss: 1.1731 - accuracy: 0.3985\n",
      "Accuracy: 39.85%\n",
      "49\n",
      "4981/4981 [==============================] - 6s 1ms/step - loss: 1.1729 - accuracy: 0.3991\n",
      "Accuracy: 39.91%\n",
      "50\n",
      "4981/4981 [==============================] - 6s 1ms/step - loss: 1.1725 - accuracy: 0.3991\n",
      "Accuracy: 39.91%\n",
      "51\n",
      "4981/4981 [==============================] - 6s 1ms/step - loss: 1.1734 - accuracy: 0.3987\n",
      "Accuracy: 39.87%\n",
      "52\n",
      "4981/4981 [==============================] - 6s 1ms/step - loss: 1.1733 - accuracy: 0.3987\n",
      "Accuracy: 39.87%\n",
      "53\n",
      "4981/4981 [==============================] - 6s 1ms/step - loss: 1.1728 - accuracy: 0.3983\n",
      "Accuracy: 39.83%\n",
      "54\n",
      "4981/4981 [==============================] - 6s 1ms/step - loss: 1.1728 - accuracy: 0.3997\n",
      "Accuracy: 39.97%\n",
      "55\n",
      "4981/4981 [==============================] - 6s 1ms/step - loss: 1.1724 - accuracy: 0.3992\n",
      "Accuracy: 39.92%\n",
      "56\n",
      "4981/4981 [==============================] - 6s 1ms/step - loss: 1.1720 - accuracy: 0.3992\n",
      "Accuracy: 39.92%\n",
      "57\n",
      "4981/4981 [==============================] - 6s 1ms/step - loss: 1.1722 - accuracy: 0.3992\n",
      "Accuracy: 39.92%\n",
      "58\n",
      "4981/4981 [==============================] - 6s 1ms/step - loss: 1.1736 - accuracy: 0.3979\n",
      "Accuracy: 39.79%\n",
      "59\n",
      "4981/4981 [==============================] - 6s 1ms/step - loss: 1.1728 - accuracy: 0.3985\n",
      "Accuracy: 39.85%\n",
      "60\n",
      "4981/4981 [==============================] - 6s 1ms/step - loss: 1.1735 - accuracy: 0.3987\n",
      "Accuracy: 39.87%\n",
      "61\n",
      "4981/4981 [==============================] - 6s 1ms/step - loss: 1.1731 - accuracy: 0.3986\n",
      "Accuracy: 39.86%\n",
      "62\n",
      "4981/4981 [==============================] - 6s 1ms/step - loss: 1.1733 - accuracy: 0.3986\n",
      "Accuracy: 39.86%\n",
      "63\n",
      "4981/4981 [==============================] - 6s 1ms/step - loss: 1.1734 - accuracy: 0.3985\n",
      "Accuracy: 39.85%\n",
      "64\n",
      "4981/4981 [==============================] - 6s 1ms/step - loss: 1.1731 - accuracy: 0.3985\n",
      "Accuracy: 39.85%\n",
      "65\n",
      "4981/4981 [==============================] - 6s 1ms/step - loss: 1.1733 - accuracy: 0.3985\n",
      "Accuracy: 39.85%\n",
      "66\n",
      "4981/4981 [==============================] - 6s 1ms/step - loss: 1.1733 - accuracy: 0.3984\n",
      "Accuracy: 39.84%\n",
      "67\n",
      "4981/4981 [==============================] - 6s 1ms/step - loss: 1.1731 - accuracy: 0.3988\n",
      "Accuracy: 39.88%\n",
      "68\n",
      "4981/4981 [==============================] - 6s 1ms/step - loss: 1.1727 - accuracy: 0.3989\n",
      "Accuracy: 39.89%\n",
      "69\n",
      "4981/4981 [==============================] - 6s 1ms/step - loss: 1.1730 - accuracy: 0.3991\n",
      "Accuracy: 39.91%\n",
      "70\n",
      "4981/4981 [==============================] - 6s 1ms/step - loss: 1.1733 - accuracy: 0.3982\n",
      "Accuracy: 39.82%\n",
      "71\n",
      "4981/4981 [==============================] - 6s 1ms/step - loss: 1.1745 - accuracy: 0.3985\n",
      "Accuracy: 39.85%\n",
      "72\n",
      "4981/4981 [==============================] - 6s 1ms/step - loss: 1.1734 - accuracy: 0.3978\n",
      "Accuracy: 39.78%\n",
      "73\n"
     ]
    },
    {
     "name": "stdout",
     "output_type": "stream",
     "text": [
      "4981/4981 [==============================] - 6s 1ms/step - loss: 1.1746 - accuracy: 0.3977\n",
      "Accuracy: 39.77%\n",
      "74\n",
      "4981/4981 [==============================] - 6s 1ms/step - loss: 1.1746 - accuracy: 0.3963\n",
      "Accuracy: 39.63%\n",
      "75\n",
      "4981/4981 [==============================] - 6s 1ms/step - loss: 1.1692 - accuracy: 0.3979\n",
      "Accuracy: 39.79%\n",
      "76\n",
      "4981/4981 [==============================] - 6s 1ms/step - loss: 1.1757 - accuracy: 0.3980\n",
      "Accuracy: 39.80%\n",
      "77\n",
      "4981/4981 [==============================] - 6s 1ms/step - loss: 1.1745 - accuracy: 0.3981\n",
      "Accuracy: 39.81%\n",
      "78\n",
      "4981/4981 [==============================] - 6s 1ms/step - loss: 1.1843 - accuracy: 0.3976\n",
      "Accuracy: 39.76%\n",
      "79\n",
      "4981/4981 [==============================] - 6s 1ms/step - loss: 1.1649 - accuracy: 0.3998\n",
      "Accuracy: 39.98%\n",
      "80\n",
      "4981/4981 [==============================] - 6s 1ms/step - loss: 1.1517 - accuracy: 0.3997\n",
      "Accuracy: 39.97%\n",
      "81\n",
      "4981/4981 [==============================] - 6s 1ms/step - loss: 1.1438 - accuracy: 0.4034\n",
      "Accuracy: 40.34%\n",
      "82\n",
      "4981/4981 [==============================] - 6s 1ms/step - loss: 1.1663 - accuracy: 0.3990\n",
      "Accuracy: 39.90%\n",
      "83\n",
      "4981/4981 [==============================] - 6s 1ms/step - loss: 1.1591 - accuracy: 0.3997\n",
      "Accuracy: 39.97%\n",
      "84\n",
      "4981/4981 [==============================] - 6s 1ms/step - loss: 1.1752 - accuracy: 0.3981\n",
      "Accuracy: 39.81%\n",
      "85\n",
      "4981/4981 [==============================] - 6s 1ms/step - loss: 1.1743 - accuracy: 0.3988\n",
      "Accuracy: 39.88%\n",
      "86\n",
      "4981/4981 [==============================] - 6s 1ms/step - loss: 1.1743 - accuracy: 0.3982\n",
      "Accuracy: 39.82%\n",
      "87\n",
      "4981/4981 [==============================] - 6s 1ms/step - loss: 1.1755 - accuracy: 0.3996\n",
      "Accuracy: 39.96%\n",
      "88\n",
      "4981/4981 [==============================] - 6s 1ms/step - loss: 1.1728 - accuracy: 0.3963\n",
      "Accuracy: 39.63%\n",
      "89\n",
      "4981/4981 [==============================] - 6s 1ms/step - loss: 1.1716 - accuracy: 0.3985\n",
      "Accuracy: 39.85%\n",
      "90\n",
      "4981/4981 [==============================] - 6s 1ms/step - loss: 1.1663 - accuracy: 0.3983\n",
      "Accuracy: 39.83%\n",
      "91\n",
      "4981/4981 [==============================] - 6s 1ms/step - loss: 1.1729 - accuracy: 0.3985\n",
      "Accuracy: 39.85%\n"
     ]
    }
   ],
   "source": [
    "delta_accuracy_list = []\n",
    "accuracy_list = []\n",
    "for column_index in range(X_test_lags.shape[2]):\n",
    "    print(column_index)\n",
    "    columns_test = X_test_lags.copy()\n",
    "    columns_test[:, :, column_index] = 0\n",
    "    \n",
    "    score = model.evaluate(columns_test, y_test_lags)\n",
    "    print(\"Accuracy: %.2f%%\" % (score[1]*100))\n",
    "    \n",
    "    delta_accuracy = scores[1]*100 - score[1]*100\n",
    "    delta_accuracy_list.append(delta_accuracy)\n",
    "    accuracy_list.append(score[1]*100)"
   ]
  },
  {
   "cell_type": "code",
   "execution_count": 172,
   "metadata": {},
   "outputs": [],
   "source": [
    "delta_accuracy_df = pd.DataFrame(np.array([list(ada.columns.values), [round(elem, 5) for elem in delta_accuracy_list]]).transpose(), columns = ['Predictor', 'Delta Accurancy'])\n",
    "delta_accuracy_df['Delta Accurancy'] = np.float32(delta_accuracy_df['Delta Accurancy'])\n",
    "delta_accuracy_df = delta_accuracy_df.sort_values(['Delta Accurancy'], ascending=False).reset_index(drop=True)\n"
   ]
  },
  {
   "cell_type": "code",
   "execution_count": 173,
   "metadata": {},
   "outputs": [
    {
     "data": {
      "text/html": [
       "<div>\n",
       "<style scoped>\n",
       "    .dataframe tbody tr th:only-of-type {\n",
       "        vertical-align: middle;\n",
       "    }\n",
       "\n",
       "    .dataframe tbody tr th {\n",
       "        vertical-align: top;\n",
       "    }\n",
       "\n",
       "    .dataframe thead th {\n",
       "        text-align: right;\n",
       "    }\n",
       "</style>\n",
       "<table border=\"1\" class=\"dataframe\">\n",
       "  <thead>\n",
       "    <tr style=\"text-align: right;\">\n",
       "      <th></th>\n",
       "      <th>Predictor</th>\n",
       "      <th>Delta Accurancy</th>\n",
       "    </tr>\n",
       "  </thead>\n",
       "  <tbody>\n",
       "    <tr>\n",
       "      <th>0</th>\n",
       "      <td>HL/O</td>\n",
       "      <td>1.30190</td>\n",
       "    </tr>\n",
       "    <tr>\n",
       "      <th>1</th>\n",
       "      <td>Number of trades</td>\n",
       "      <td>0.41786</td>\n",
       "    </tr>\n",
       "    <tr>\n",
       "      <th>2</th>\n",
       "      <td>Close Ratio</td>\n",
       "      <td>0.22022</td>\n",
       "    </tr>\n",
       "    <tr>\n",
       "      <th>3</th>\n",
       "      <td>BTC HL/O</td>\n",
       "      <td>0.21834</td>\n",
       "    </tr>\n",
       "    <tr>\n",
       "      <th>4</th>\n",
       "      <td>Taker buy quote asset volumne</td>\n",
       "      <td>0.17442</td>\n",
       "    </tr>\n",
       "    <tr>\n",
       "      <th>5</th>\n",
       "      <td>BTC Close</td>\n",
       "      <td>0.09035</td>\n",
       "    </tr>\n",
       "    <tr>\n",
       "      <th>6</th>\n",
       "      <td>Low</td>\n",
       "      <td>0.08470</td>\n",
       "    </tr>\n",
       "    <tr>\n",
       "      <th>7</th>\n",
       "      <td>Volume</td>\n",
       "      <td>0.08157</td>\n",
       "    </tr>\n",
       "    <tr>\n",
       "      <th>8</th>\n",
       "      <td>Low Ratio</td>\n",
       "      <td>0.07968</td>\n",
       "    </tr>\n",
       "    <tr>\n",
       "      <th>9</th>\n",
       "      <td>Taker buy base asset volume</td>\n",
       "      <td>0.07906</td>\n",
       "    </tr>\n",
       "  </tbody>\n",
       "</table>\n",
       "</div>"
      ],
      "text/plain": [
       "                       Predictor  Delta Accurancy\n",
       "0                           HL/O          1.30190\n",
       "1               Number of trades          0.41786\n",
       "2                    Close Ratio          0.22022\n",
       "3                       BTC HL/O          0.21834\n",
       "4  Taker buy quote asset volumne          0.17442\n",
       "5                      BTC Close          0.09035\n",
       "6                            Low          0.08470\n",
       "7                         Volume          0.08157\n",
       "8                      Low Ratio          0.07968\n",
       "9    Taker buy base asset volume          0.07906"
      ]
     },
     "execution_count": 173,
     "metadata": {},
     "output_type": "execute_result"
    }
   ],
   "source": [
    "delta_accuracy_df.iloc[:10, :]"
   ]
  },
  {
   "cell_type": "code",
   "execution_count": 174,
   "metadata": {},
   "outputs": [
    {
     "data": {
      "image/png": "[encoded data removed]",
      "text/plain": [
       "<Figure size 1080x720 with 1 Axes>"
      ]
     },
     "metadata": {},
     "output_type": "display_data"
    }
   ],
   "source": [
    "plt.figure(figsize=(15, 10))\n",
    "plt.rcParams.update({'font.size': 16})\n",
    "plt.bar(delta_accuracy_df.iloc[:10, :]['Predictor'], \n",
    "        delta_accuracy_df.iloc[:10, :]['Delta Accurancy'],\n",
    "       color=(0.2, 0.4, 0.6, 0.6))\n",
    "\n",
    "plt.xlabel('Predictor')\n",
    "plt.ylabel('Delta Accurancy')\n",
    "plt.xticks(delta_accuracy_df.iloc[:10, :]['Predictor'])\n",
    "plt.xticks(rotation=90)\n",
    "plt.grid(True)\n",
    "\n",
    "plt.show()"
   ]
  },
  {
   "cell_type": "markdown",
   "metadata": {},
   "source": [
    "# -------------------------------------------------------------------------------------------"
   ]
  },
  {
   "cell_type": "markdown",
   "metadata": {},
   "source": [
    "# Regression Models"
   ]
  },
  {
   "cell_type": "code",
   "execution_count": 257,
   "metadata": {},
   "outputs": [],
   "source": [
    "seed_value = 1\n",
    "import random\n",
    "random.seed(seed_value)\n",
    "np.random.seed(seed_value)\n",
    "import tensorflow as tf\n",
    "tf.random.set_seed(seed_value)"
   ]
  },
  {
   "cell_type": "code",
   "execution_count": 258,
   "metadata": {},
   "outputs": [],
   "source": [
    "ada_return = pd.read_csv('ada_return.csv')\n",
    "ada_return.columns = ['index','return']\n",
    "ada_return = ada_return.drop('index', axis = 1)\n",
    "\n",
    "ada_btc = pd.read_csv('Clean_ADA.csv')\n",
    "ada_btc = ada_btc.drop(ada_btc.columns[0], axis=1)\n",
    "\n",
    " "
   ]
  },
  {
   "cell_type": "code",
   "execution_count": 259,
   "metadata": {},
   "outputs": [
    {
     "name": "stdout",
     "output_type": "stream",
     "text": [
      "(318787, 92)\n",
      "(318787, 1)\n"
     ]
    }
   ],
   "source": [
    "X=np.array(ada_btc)\n",
    "y=np.array(ada_return)\n",
    "print(X.shape)\n",
    "print(y.shape)"
   ]
  },
  {
   "cell_type": "code",
   "execution_count": 260,
   "metadata": {},
   "outputs": [],
   "source": [
    "X_train, X_test, y_train, y_test = train_test_split(X, y, test_size=0.5, random_state=0)"
   ]
  },
  {
   "cell_type": "markdown",
   "metadata": {},
   "source": [
    "## 1- Lasso\n"
   ]
  },
  {
   "cell_type": "code",
   "execution_count": 261,
   "metadata": {},
   "outputs": [
    {
     "data": {
      "text/plain": [
       "LassoCV(alphas=array([0.  , 0.01, 0.02, 0.03, 0.04, 0.05, 0.06, 0.07, 0.08, 0.09, 0.1 ,\n",
       "       0.11, 0.12, 0.13, 0.14, 0.15, 0.16, 0.17, 0.18, 0.19, 0.2 ]),\n",
       "        cv=5)"
      ]
     },
     "execution_count": 261,
     "metadata": {},
     "output_type": "execute_result"
    }
   ],
   "source": [
    "lasso_alphas = np.linspace(0, 0.2, 21)\n",
    "cv = 5\n",
    "\n",
    "lasso = LassoCV(alphas = lasso_alphas, cv = cv)\n",
    "lasso_model = lasso.fit(X_train, y_train)\n",
    "lasso_model"
   ]
  },
  {
   "cell_type": "code",
   "execution_count": 262,
   "metadata": {},
   "outputs": [
    {
     "name": "stdout",
     "output_type": "stream",
     "text": [
      "Mean absolute error:  0.2292843365333256\n",
      "Mean squared error:  0.13991828008092672\n",
      "R Squared :  -3.878590237094137e-05\n"
     ]
    }
   ],
   "source": [
    "y_pred_test= lasso_model.predict(X_test)\n",
    "MAE = mean_absolute_error(y_test , y_pred_test)\n",
    "MSE = mean_squared_error(y_test , y_pred_test)\n",
    "R2 = r2_score(y_test,y_pred_test)\n",
    "print('Mean absolute error: ', MAE)\n",
    "print('Mean squared error: ', MSE)\n",
    "print('R Squared : ', R2)"
   ]
  },
  {
   "cell_type": "code",
   "execution_count": 263,
   "metadata": {},
   "outputs": [
    {
     "data": {
      "image/png": "[encoded data removed]",
      "text/plain": [
       "<Figure size 576x396 with 1 Axes>"
      ]
     },
     "metadata": {},
     "output_type": "display_data"
    },
    {
     "data": {
      "text/plain": [
       "<AxesSubplot:title={'center':'LassoCV Alpha Error'}, xlabel='alpha', ylabel='error (or score)'>"
      ]
     },
     "execution_count": 263,
     "metadata": {},
     "output_type": "execute_result"
    }
   ],
   "source": [
    "from yellowbrick.regressor import AlphaSelection\n",
    "\n",
    "visualizer = AlphaSelection(lasso_model)\n",
    "visualizer.fit(X_train, y_train) \n",
    "visualizer.show()"
   ]
  },
  {
   "cell_type": "markdown",
   "metadata": {},
   "source": [
    "Note: The model is predicting exclusively a constant function, which in the context of the problem corresponds to, roughly the historical 5 minute growth of Cardano's price. Therefore, an increase in alpha will lead to the exact same results. "
   ]
  },
  {
   "cell_type": "markdown",
   "metadata": {},
   "source": [
    "## 2- Neural Network\n"
   ]
  },
  {
   "cell_type": "markdown",
   "metadata": {},
   "source": [
    "### One Hidden Layer\n"
   ]
  },
  {
   "cell_type": "code",
   "execution_count": 71,
   "metadata": {},
   "outputs": [],
   "source": [
    "seed_value = 1\n",
    "import random\n",
    "random.seed(seed_value)\n",
    "np.random.seed(seed_value)\n",
    "import tensorflow as tf\n",
    "tf.random.set_seed(seed_value)"
   ]
  },
  {
   "cell_type": "code",
   "execution_count": 72,
   "metadata": {
    "collapsed": true
   },
   "outputs": [
    {
     "name": "stdout",
     "output_type": "stream",
     "text": [
      "Iteration 1, loss = 0.36927691\n",
      "Iteration 2, loss = 0.08690360\n",
      "Iteration 3, loss = 0.07909676\n",
      "Iteration 4, loss = 0.07599664\n",
      "Iteration 5, loss = 0.08445206\n",
      "Iteration 6, loss = 0.07160099\n",
      "Iteration 7, loss = 0.07212096\n",
      "Iteration 8, loss = 0.07176343\n",
      "Iteration 9, loss = 0.07456649\n",
      "Iteration 10, loss = 0.07084258\n",
      "Iteration 11, loss = 0.07134592\n",
      "Iteration 12, loss = 0.06907193\n",
      "Iteration 13, loss = 0.06915058\n",
      "Iteration 14, loss = 0.06825660\n",
      "Iteration 15, loss = 0.06864844\n",
      "Iteration 16, loss = 0.06811724\n",
      "Iteration 17, loss = 0.06766533\n",
      "Iteration 18, loss = 0.06752661\n",
      "Iteration 19, loss = 0.06750694\n",
      "Iteration 20, loss = 0.06741261\n",
      "Iteration 21, loss = 0.06734476\n",
      "Iteration 22, loss = 0.06733815\n",
      "Iteration 23, loss = 0.06722018\n",
      "Iteration 24, loss = 0.06709032\n",
      "Iteration 25, loss = 0.06702121\n",
      "Iteration 26, loss = 0.06704554\n",
      "Iteration 27, loss = 0.06698337\n",
      "Iteration 28, loss = 0.06697305\n",
      "Iteration 29, loss = 0.06682620\n",
      "Iteration 30, loss = 0.06680314\n",
      "Iteration 31, loss = 0.06684160\n",
      "Iteration 32, loss = 0.06683358\n",
      "Iteration 33, loss = 0.06660573\n",
      "Iteration 34, loss = 0.06658029\n",
      "Iteration 35, loss = 0.06663907\n",
      "Iteration 36, loss = 0.06643559\n",
      "Iteration 37, loss = 0.06660895\n",
      "Iteration 38, loss = 0.06636757\n",
      "Iteration 39, loss = 0.06649528\n",
      "Iteration 40, loss = 0.06636484\n",
      "Iteration 41, loss = 0.06628816\n",
      "Iteration 42, loss = 0.06617639\n",
      "Iteration 43, loss = 0.06619308\n",
      "Iteration 44, loss = 0.06611861\n",
      "Iteration 45, loss = 0.06612134\n",
      "Iteration 46, loss = 0.06612677\n",
      "Iteration 47, loss = 0.06613565\n",
      "Iteration 48, loss = 0.06599796\n",
      "Iteration 49, loss = 0.06596144\n",
      "Iteration 50, loss = 0.06604807\n",
      "Iteration 51, loss = 0.06582593\n",
      "Iteration 52, loss = 0.06581675\n",
      "Iteration 53, loss = 0.06584147\n",
      "Iteration 54, loss = 0.06603088\n",
      "Iteration 55, loss = 0.06570270\n",
      "Iteration 56, loss = 0.06589492\n",
      "Iteration 57, loss = 0.06576100\n",
      "Iteration 58, loss = 0.06567039\n",
      "Iteration 59, loss = 0.06572034\n",
      "Iteration 60, loss = 0.06554097\n",
      "Iteration 61, loss = 0.06584418\n",
      "Iteration 62, loss = 0.06564047\n",
      "Iteration 63, loss = 0.06556460\n",
      "Iteration 64, loss = 0.06564187\n",
      "Iteration 65, loss = 0.06571873\n",
      "Iteration 66, loss = 0.06543027\n",
      "Iteration 67, loss = 0.06546939\n",
      "Iteration 68, loss = 0.06559414\n",
      "Iteration 69, loss = 0.06554288\n",
      "Iteration 70, loss = 0.06550157\n",
      "Iteration 71, loss = 0.06529824\n",
      "Iteration 72, loss = 0.06536537\n",
      "Iteration 73, loss = 0.06534176\n",
      "Iteration 74, loss = 0.06521217\n",
      "Iteration 75, loss = 0.06540047\n",
      "Iteration 76, loss = 0.06525324\n",
      "Iteration 77, loss = 0.06535777\n",
      "Iteration 78, loss = 0.06536337\n",
      "Iteration 79, loss = 0.06522866\n",
      "Iteration 80, loss = 0.06531926\n",
      "Iteration 81, loss = 0.06525521\n",
      "Iteration 82, loss = 0.06520545\n",
      "Training loss did not improve more than tol=0.000100 for 10 consecutive epochs. Stopping.\n"
     ]
    },
    {
     "data": {
      "text/plain": [
       "MLPRegressor(hidden_layer_sizes=32, verbose=True)"
      ]
     },
     "execution_count": 72,
     "metadata": {},
     "output_type": "execute_result"
    }
   ],
   "source": [
    "nn_model = MLPRegressor(verbose=True, hidden_layer_sizes=(32))\n",
    "nn_model= nn_model.fit(X_train , y_train)\n",
    "nn_model"
   ]
  },
  {
   "cell_type": "code",
   "execution_count": 73,
   "metadata": {},
   "outputs": [
    {
     "name": "stdout",
     "output_type": "stream",
     "text": [
      "Mean absolute error:  0.23447851903046532\n",
      "Mean squared error:  0.14420757651782495\n",
      "R Squared :  -0.030695700771893986\n"
     ]
    }
   ],
   "source": [
    "y_pred_test = nn_model.predict(X_test)\n",
    "nn_test_rs1=r2_score(y_test,y_pred_test)\n",
    "MAE = mean_absolute_error(y_test , y_pred_test)\n",
    "MSE = mean_squared_error(y_test , y_pred_test)\n",
    "print('Mean absolute error: ', MAE)\n",
    "print('Mean squared error: ', MSE)\n",
    "print('R Squared : ', nn_test_rs1)"
   ]
  },
  {
   "cell_type": "markdown",
   "metadata": {},
   "source": [
    "### Two Hidden Layers\n"
   ]
  },
  {
   "cell_type": "code",
   "execution_count": 74,
   "metadata": {},
   "outputs": [],
   "source": [
    "seed_value = 1\n",
    "import random\n",
    "random.seed(seed_value)\n",
    "np.random.seed(seed_value)\n",
    "import tensorflow as tf\n",
    "tf.random.set_seed(seed_value)"
   ]
  },
  {
   "cell_type": "code",
   "execution_count": 75,
   "metadata": {
    "collapsed": true
   },
   "outputs": [
    {
     "name": "stdout",
     "output_type": "stream",
     "text": [
      "Iteration 1, loss = 0.13221627\n",
      "Iteration 2, loss = 0.08192319\n",
      "Iteration 3, loss = 0.07689277\n",
      "Iteration 4, loss = 0.07774119\n",
      "Iteration 5, loss = 0.07280464\n",
      "Iteration 6, loss = 0.07456104\n",
      "Iteration 7, loss = 0.06868223\n",
      "Iteration 8, loss = 0.06912871\n",
      "Iteration 9, loss = 0.06821565\n",
      "Iteration 10, loss = 0.06814772\n",
      "Iteration 11, loss = 0.06801824\n",
      "Iteration 12, loss = 0.06759895\n",
      "Iteration 13, loss = 0.06756853\n",
      "Iteration 14, loss = 0.06743861\n",
      "Iteration 15, loss = 0.06732419\n",
      "Iteration 16, loss = 0.06712824\n",
      "Iteration 17, loss = 0.06693493\n",
      "Iteration 18, loss = 0.06717957\n",
      "Iteration 19, loss = 0.06669333\n",
      "Iteration 20, loss = 0.06668842\n",
      "Iteration 21, loss = 0.06660687\n",
      "Iteration 22, loss = 0.06639770\n",
      "Iteration 23, loss = 0.06637820\n",
      "Iteration 24, loss = 0.06633313\n",
      "Iteration 25, loss = 0.06615394\n",
      "Iteration 26, loss = 0.06609404\n",
      "Iteration 27, loss = 0.06594331\n",
      "Iteration 28, loss = 0.06598274\n",
      "Iteration 29, loss = 0.06587185\n",
      "Iteration 30, loss = 0.06543754\n",
      "Iteration 31, loss = 0.06547474\n",
      "Iteration 32, loss = 0.06561626\n",
      "Iteration 33, loss = 0.06541213\n",
      "Iteration 34, loss = 0.06521978\n",
      "Iteration 35, loss = 0.06509887\n",
      "Iteration 36, loss = 0.06592232\n",
      "Iteration 37, loss = 0.06506584\n",
      "Iteration 38, loss = 0.06497932\n",
      "Iteration 39, loss = 0.06508009\n",
      "Iteration 40, loss = 0.06470514\n",
      "Iteration 41, loss = 0.06484993\n",
      "Iteration 42, loss = 0.06469983\n",
      "Iteration 43, loss = 0.06452980\n",
      "Iteration 44, loss = 0.06466733\n",
      "Iteration 45, loss = 0.06450137\n",
      "Iteration 46, loss = 0.06453815\n",
      "Iteration 47, loss = 0.06445083\n",
      "Iteration 48, loss = 0.06445031\n",
      "Iteration 49, loss = 0.06433790\n",
      "Iteration 50, loss = 0.06412634\n",
      "Iteration 51, loss = 0.06438563\n",
      "Iteration 52, loss = 0.06408843\n",
      "Iteration 53, loss = 0.06419350\n",
      "Iteration 54, loss = 0.06430731\n",
      "Iteration 55, loss = 0.06401554\n",
      "Iteration 56, loss = 0.06393181\n",
      "Iteration 57, loss = 0.06408406\n",
      "Iteration 58, loss = 0.06382308\n",
      "Iteration 59, loss = 0.06372881\n",
      "Iteration 60, loss = 0.06359664\n",
      "Iteration 61, loss = 0.06395614\n",
      "Iteration 62, loss = 0.06353192\n",
      "Iteration 63, loss = 0.06361933\n",
      "Iteration 64, loss = 0.06403465\n",
      "Iteration 65, loss = 0.06345086\n",
      "Iteration 66, loss = 0.06351484\n",
      "Iteration 67, loss = 0.06337057\n",
      "Iteration 68, loss = 0.06363469\n",
      "Iteration 69, loss = 0.06339935\n",
      "Iteration 70, loss = 0.06328518\n",
      "Iteration 71, loss = 0.06333912\n",
      "Training loss did not improve more than tol=0.000100 for 10 consecutive epochs. Stopping.\n"
     ]
    },
    {
     "data": {
      "text/plain": [
       "MLPRegressor(hidden_layer_sizes=(32, 16), verbose=True)"
      ]
     },
     "execution_count": 75,
     "metadata": {},
     "output_type": "execute_result"
    }
   ],
   "source": [
    "nn_model2 = MLPRegressor(verbose=True, hidden_layer_sizes=(32,16))\n",
    "nn_model2= nn_model2.fit(X_train , y_train)\n",
    "nn_model2"
   ]
  },
  {
   "cell_type": "code",
   "execution_count": 76,
   "metadata": {},
   "outputs": [
    {
     "name": "stdout",
     "output_type": "stream",
     "text": [
      "Mean absolute error:  0.23659552862728517\n",
      "Mean squared error:  0.14859533476328124\n",
      "R Squared :  -0.06205635233280016\n"
     ]
    }
   ],
   "source": [
    "y_pred_test = nn_model2.predict(X_test)\n",
    "nn_test_rs2=r2_score(y_test,y_pred_test)\n",
    "MAE = mean_absolute_error(y_test , y_pred_test)\n",
    "MSE = mean_squared_error(y_test , y_pred_test)\n",
    "print('Mean absolute error: ', MAE)\n",
    "print('Mean squared error: ', MSE)\n",
    "print('R Squared : ', nn_test_rs2)"
   ]
  },
  {
   "cell_type": "markdown",
   "metadata": {},
   "source": [
    "### Three Hidden Layers\n"
   ]
  },
  {
   "cell_type": "code",
   "execution_count": 77,
   "metadata": {},
   "outputs": [],
   "source": [
    "seed_value = 1\n",
    "import random\n",
    "random.seed(seed_value)\n",
    "np.random.seed(seed_value)\n",
    "import tensorflow as tf\n",
    "tf.random.set_seed(seed_value)"
   ]
  },
  {
   "cell_type": "code",
   "execution_count": 78,
   "metadata": {
    "collapsed": true
   },
   "outputs": [
    {
     "name": "stdout",
     "output_type": "stream",
     "text": [
      "Iteration 1, loss = 0.28058817\n",
      "Iteration 2, loss = 0.07391982\n",
      "Iteration 3, loss = 0.07062102\n",
      "Iteration 4, loss = 0.06926997\n",
      "Iteration 5, loss = 0.06866082\n",
      "Iteration 6, loss = 0.06832919\n",
      "Iteration 7, loss = 0.06816762\n",
      "Iteration 8, loss = 0.06795694\n",
      "Iteration 9, loss = 0.06791787\n",
      "Iteration 10, loss = 0.06766411\n",
      "Iteration 11, loss = 0.06761461\n",
      "Iteration 12, loss = 0.06756491\n",
      "Iteration 13, loss = 0.06734987\n",
      "Iteration 14, loss = 0.06719266\n",
      "Iteration 15, loss = 0.06716060\n",
      "Iteration 16, loss = 0.06702578\n",
      "Iteration 17, loss = 0.06716443\n",
      "Iteration 18, loss = 0.06687255\n",
      "Iteration 19, loss = 0.06671580\n",
      "Iteration 20, loss = 0.06667053\n",
      "Iteration 21, loss = 0.06677744\n",
      "Iteration 22, loss = 0.06659772\n",
      "Iteration 23, loss = 0.06633491\n",
      "Iteration 24, loss = 0.06603670\n",
      "Iteration 25, loss = 0.06591085\n",
      "Iteration 26, loss = 0.06570823\n",
      "Iteration 27, loss = 0.06524131\n",
      "Iteration 28, loss = 0.06549354\n",
      "Iteration 29, loss = 0.06514906\n",
      "Iteration 30, loss = 0.06532695\n",
      "Iteration 31, loss = 0.06516347\n",
      "Iteration 32, loss = 0.06483476\n",
      "Iteration 33, loss = 0.06483571\n",
      "Iteration 34, loss = 0.06491164\n",
      "Iteration 35, loss = 0.06469520\n",
      "Iteration 36, loss = 0.06479975\n",
      "Iteration 37, loss = 0.06488967\n",
      "Iteration 38, loss = 0.06490488\n",
      "Iteration 39, loss = 0.06421851\n",
      "Iteration 40, loss = 0.06424416\n",
      "Iteration 41, loss = 0.06423587\n",
      "Iteration 42, loss = 0.06440721\n",
      "Iteration 43, loss = 0.06419200\n",
      "Iteration 44, loss = 0.06403758\n",
      "Iteration 45, loss = 0.06401502\n",
      "Iteration 46, loss = 0.06406181\n",
      "Iteration 47, loss = 0.06341031\n",
      "Iteration 48, loss = 0.06417262\n",
      "Iteration 49, loss = 0.06413470\n",
      "Iteration 50, loss = 0.06367305\n",
      "Iteration 51, loss = 0.06357552\n",
      "Iteration 52, loss = 0.06347642\n",
      "Iteration 53, loss = 0.06404687\n",
      "Iteration 54, loss = 0.06388567\n",
      "Iteration 55, loss = 0.06332609\n",
      "Iteration 56, loss = 0.06356999\n",
      "Iteration 57, loss = 0.06333863\n",
      "Iteration 58, loss = 0.06310427\n",
      "Iteration 59, loss = 0.06383235\n",
      "Iteration 60, loss = 0.06352373\n",
      "Iteration 61, loss = 0.06326393\n",
      "Iteration 62, loss = 0.06340230\n",
      "Iteration 63, loss = 0.06408237\n",
      "Iteration 64, loss = 0.06337453\n",
      "Iteration 65, loss = 0.06551499\n",
      "Iteration 66, loss = 0.06354952\n",
      "Iteration 67, loss = 0.06295161\n",
      "Iteration 68, loss = 0.06293655\n",
      "Iteration 69, loss = 0.06273035\n",
      "Iteration 70, loss = 0.06319715\n",
      "Iteration 71, loss = 0.06329111\n",
      "Iteration 72, loss = 0.06286378\n",
      "Iteration 73, loss = 0.06262496\n",
      "Iteration 74, loss = 0.06263519\n",
      "Iteration 75, loss = 0.06307564\n",
      "Iteration 76, loss = 0.06311730\n",
      "Iteration 77, loss = 0.06308442\n",
      "Iteration 78, loss = 0.06285698\n",
      "Iteration 79, loss = 0.06270084\n",
      "Iteration 80, loss = 0.06246784\n",
      "Iteration 81, loss = 0.06239449\n",
      "Iteration 82, loss = 0.06241896\n",
      "Iteration 83, loss = 0.06254169\n",
      "Iteration 84, loss = 0.06290537\n",
      "Iteration 85, loss = 0.06244435\n",
      "Iteration 86, loss = 0.06234320\n",
      "Iteration 87, loss = 0.06288805\n",
      "Iteration 88, loss = 0.06253079\n",
      "Iteration 89, loss = 0.06245412\n",
      "Iteration 90, loss = 0.06211930\n",
      "Iteration 91, loss = 0.06218866\n",
      "Iteration 92, loss = 0.06246963\n",
      "Iteration 93, loss = 0.06238016\n",
      "Iteration 94, loss = 0.06208543\n",
      "Iteration 95, loss = 0.06249318\n",
      "Iteration 96, loss = 0.06315312\n",
      "Iteration 97, loss = 0.06211521\n",
      "Iteration 98, loss = 0.06197662\n",
      "Iteration 99, loss = 0.06190458\n",
      "Iteration 100, loss = 0.06354270\n",
      "Iteration 101, loss = 0.06222092\n",
      "Iteration 102, loss = 0.06175136\n",
      "Iteration 103, loss = 0.06220276\n",
      "Iteration 104, loss = 0.06208226\n",
      "Iteration 105, loss = 0.06186407\n",
      "Iteration 106, loss = 0.06166923\n",
      "Iteration 107, loss = 0.06219055\n",
      "Iteration 108, loss = 0.06199375\n",
      "Iteration 109, loss = 0.06181963\n",
      "Iteration 110, loss = 0.06185571\n",
      "Iteration 111, loss = 0.06193916\n",
      "Iteration 112, loss = 0.06245171\n",
      "Iteration 113, loss = 0.06177057\n",
      "Training loss did not improve more than tol=0.000100 for 10 consecutive epochs. Stopping.\n"
     ]
    },
    {
     "data": {
      "text/plain": [
       "MLPRegressor(hidden_layer_sizes=(32, 16, 8), verbose=True)"
      ]
     },
     "execution_count": 78,
     "metadata": {},
     "output_type": "execute_result"
    }
   ],
   "source": [
    "nn_model3 = MLPRegressor(verbose=True, hidden_layer_sizes=(32,16,8))\n",
    "nn_model3= nn_model3.fit(X_train , y_train)\n",
    "nn_model3"
   ]
  },
  {
   "cell_type": "code",
   "execution_count": 79,
   "metadata": {},
   "outputs": [
    {
     "name": "stdout",
     "output_type": "stream",
     "text": [
      "Mean absolute error:  0.2341277324104873\n",
      "Mean squared error:  0.1497027608463975\n",
      "R Squared :  -0.06997146560460177\n"
     ]
    }
   ],
   "source": [
    "y_pred_test = nn_model3.predict(X_test)\n",
    "nn_test_rs3=r2_score(y_test,y_pred_test)\n",
    "MAE = mean_absolute_error(y_test , y_pred_test)\n",
    "MSE = mean_squared_error(y_test , y_pred_test)\n",
    "print('Mean absolute error: ', MAE)\n",
    "print('Mean squared error: ', MSE)\n",
    "print('R Squared : ', nn_test_rs3)"
   ]
  },
  {
   "cell_type": "markdown",
   "metadata": {},
   "source": [
    "## 3- LSTM\n"
   ]
  },
  {
   "cell_type": "code",
   "execution_count": 223,
   "metadata": {},
   "outputs": [],
   "source": [
    "seed_value = 1\n",
    "import random\n",
    "random.seed(seed_value)\n",
    "np.random.seed(seed_value)\n",
    "import tensorflow as tf\n",
    "tf.random.set_seed(seed_value)"
   ]
  },
  {
   "cell_type": "code",
   "execution_count": 224,
   "metadata": {},
   "outputs": [],
   "source": [
    "ada_returns = pd.read_csv('ada_return.csv').iloc[:, 1:]"
   ]
  },
  {
   "cell_type": "code",
   "execution_count": 225,
   "metadata": {},
   "outputs": [
    {
     "data": {
      "text/plain": [
       "159394"
      ]
     },
     "execution_count": 225,
     "metadata": {},
     "output_type": "execute_result"
    }
   ],
   "source": [
    "import math\n",
    "training_data_size = math.ceil(len(ada_returns)*0.5)\n",
    "training_data_size"
   ]
  },
  {
   "cell_type": "code",
   "execution_count": 226,
   "metadata": {},
   "outputs": [],
   "source": [
    "X_train3 = ada[0:training_data_size]\n",
    "y_train3 = ada_returns[0:training_data_size]\n",
    "\n",
    "X_test3 = ada[training_data_size:]\n",
    "y_test3 = ada_returns[training_data_size:]"
   ]
  },
  {
   "cell_type": "code",
   "execution_count": 227,
   "metadata": {},
   "outputs": [],
   "source": [
    "window_size = 11\n",
    "X_train3 = np.array(X_train3)\n",
    "y_train3 = np.array(y_train3)"
   ]
  },
  {
   "cell_type": "code",
   "execution_count": 228,
   "metadata": {},
   "outputs": [
    {
     "name": "stdout",
     "output_type": "stream",
     "text": [
      "[array([[ 2.28285163,  2.56273402,  2.21262862, ...,  2.33541665,\n",
      "         0.93598507, -0.00694674],\n",
      "       [ 2.2825751 ,  2.47090492,  2.24979078, ...,  2.32203895,\n",
      "         0.9316947 , -0.00694674],\n",
      "       [ 2.28395775,  2.29648479,  2.22469245, ...,  2.25933316,\n",
      "         0.92613674, -0.00694674],\n",
      "       ...,\n",
      "       [ 2.28146897,  2.27387222,  2.25187075, ...,  2.26804422,\n",
      "         0.92732242, -0.00694674],\n",
      "       [ 2.26473881,  2.27180399,  2.26518256, ...,  2.26894298,\n",
      "         0.93090088, -0.00694674],\n",
      "       [ 2.27386435,  2.26849484,  2.27572108, ...,  2.27402443,\n",
      "         0.93377625, -0.00694674]])]\n",
      "[array([1.6504126])]\n"
     ]
    }
   ],
   "source": [
    "X_train_lags = []\n",
    "y_train_lags = []\n",
    "for i in range(window_size, len(X_train3)):\n",
    "    X_train_lags.append(X_train3[i-window_size:i])\n",
    "    y_train_lags.append(y_train3[i-1])\n",
    "    if i <= 11:\n",
    "        print(X_train_lags)\n",
    "        print(y_train_lags)\n",
    "        \n",
    "X_train_lags = np.array(X_train_lags)\n",
    "y_train_lags = np.array(y_train_lags)"
   ]
  },
  {
   "cell_type": "code",
   "execution_count": 230,
   "metadata": {},
   "outputs": [
    {
     "data": {
      "text/plain": [
       "(159383, 1)"
      ]
     },
     "execution_count": 230,
     "metadata": {},
     "output_type": "execute_result"
    }
   ],
   "source": [
    "y_train_lags.shape"
   ]
  },
  {
   "cell_type": "code",
   "execution_count": 231,
   "metadata": {},
   "outputs": [
    {
     "name": "stdout",
     "output_type": "stream",
     "text": [
      "11 92 1\n"
     ]
    }
   ],
   "source": [
    "# create and fit the LSTM network\n",
    "epochs, batch_size = 10, 100\n",
    "n_timesteps, n_features, n_outputs = X_train_lags.shape[1], X_train_lags.shape[2], y_train_lags.shape[1]\n",
    "print(n_timesteps, n_features, n_outputs)\n",
    "model = Sequential()\n",
    "model.add(LSTM(100, input_shape=(n_timesteps, n_features)))\n",
    "model.add(Dropout(0.2))\n",
    "model.add(Dense(50, activation='relu'))\n",
    "model.add(Dense(1))\n",
    "model.compile(loss='mean_squared_error', optimizer='adam')"
   ]
  },
  {
   "cell_type": "code",
   "execution_count": 232,
   "metadata": {},
   "outputs": [
    {
     "name": "stdout",
     "output_type": "stream",
     "text": [
      "Epoch 1/10\n",
      "1068/1068 [==============================] - 8s 8ms/step - loss: 0.1265 - val_loss: 0.1108\n",
      "Epoch 2/10\n",
      "1068/1068 [==============================] - 8s 7ms/step - loss: 0.1212 - val_loss: 0.1034\n",
      "Epoch 3/10\n",
      "1068/1068 [==============================] - 8s 7ms/step - loss: 0.1207 - val_loss: 0.1024\n",
      "Epoch 4/10\n",
      "1068/1068 [==============================] - 8s 7ms/step - loss: 0.1200 - val_loss: 0.1089\n",
      "Epoch 5/10\n",
      "1068/1068 [==============================] - 8s 7ms/step - loss: 0.1193 - val_loss: 0.1178\n",
      "Epoch 6/10\n",
      "1068/1068 [==============================] - 7s 7ms/step - loss: 0.1181 - val_loss: 0.1067\n",
      "Epoch 7/10\n",
      "1068/1068 [==============================] - 7s 7ms/step - loss: 0.1168 - val_loss: 0.1141\n",
      "Epoch 8/10\n",
      "1068/1068 [==============================] - 7s 7ms/step - loss: 0.1144 - val_loss: 0.1318\n",
      "Epoch 9/10\n",
      "1068/1068 [==============================] - 7s 7ms/step - loss: 0.1123 - val_loss: 0.1211\n",
      "Epoch 10/10\n",
      "1068/1068 [==============================] - 7s 7ms/step - loss: 0.1091 - val_loss: 0.1324\n"
     ]
    },
    {
     "data": {
      "text/plain": [
       "<tensorflow.python.keras.callbacks.History at 0x2de110c15e0>"
      ]
     },
     "execution_count": 232,
     "metadata": {},
     "output_type": "execute_result"
    }
   ],
   "source": [
    "model.fit(X_train_lags, y_train_lags, epochs=epochs, batch_size=batch_size, validation_split=0.33)"
   ]
  },
  {
   "cell_type": "code",
   "execution_count": 233,
   "metadata": {
    "scrolled": true
   },
   "outputs": [],
   "source": [
    "X_test3 = np.array(X_test3)\n",
    "y_test3 = np.array(y_test3)\n",
    "\n",
    "X_test_lags = []\n",
    "y_test_lags = []\n",
    "for i in range(window_size, len(X_test3)):\n",
    "    X_test_lags.append(X_test3[i-window_size:i])\n",
    "    y_test_lags.append(y_test3[i-1])"
   ]
  },
  {
   "cell_type": "code",
   "execution_count": 234,
   "metadata": {},
   "outputs": [],
   "source": [
    "X_test_lags = np.array(X_test_lags)\n",
    "y_test_lags = np.array(y_test_lags)"
   ]
  },
  {
   "cell_type": "code",
   "execution_count": 235,
   "metadata": {},
   "outputs": [],
   "source": [
    "y_pred = model.predict(X_test_lags)"
   ]
  },
  {
   "cell_type": "code",
   "execution_count": 236,
   "metadata": {},
   "outputs": [
    {
     "name": "stdout",
     "output_type": "stream",
     "text": [
      "R2 Score:  -0.5090666766218102\n"
     ]
    }
   ],
   "source": [
    "r2 = r2_score(y_test_lags, y_pred)\n",
    "print('R2 Score: ', r2)"
   ]
  },
  {
   "cell_type": "markdown",
   "metadata": {},
   "source": [
    "### Sensitivity Analysis\n"
   ]
  },
  {
   "cell_type": "code",
   "execution_count": 210,
   "metadata": {
    "collapsed": true
   },
   "outputs": [
    {
     "name": "stdout",
     "output_type": "stream",
     "text": [
      "0\n",
      "R2:  -3.2167253161192635\n",
      "Delta R2:  0.04505958369956087\n",
      "1\n",
      "R2:  -3.1460046081040884\n",
      "Delta R2:  -0.02566112431561418\n",
      "2\n",
      "R2:  -3.125692514091315\n",
      "Delta R2:  -0.04597321832838741\n",
      "3\n",
      "R2:  -3.106490521499679\n",
      "Delta R2:  -0.06517521092002365\n",
      "4\n",
      "R2:  -3.1818409234408014\n",
      "Delta R2:  0.010175191021098762\n",
      "5\n",
      "R2:  -3.194308285652683\n",
      "Delta R2:  0.02264255323298059\n",
      "6\n",
      "R2:  -3.180041708207737\n",
      "Delta R2:  0.008375975788034395\n",
      "7\n",
      "R2:  -3.3640770689575534\n",
      "Delta R2:  0.1924113365378508\n",
      "8\n",
      "R2:  -3.4210122563533307\n",
      "Delta R2:  0.2493465239336281\n",
      "9\n",
      "R2:  -3.489945423747457\n",
      "Delta R2:  0.3182796913277546\n",
      "10\n",
      "R2:  -0.8995555130729638\n",
      "Delta R2:  -2.2721102193467386\n",
      "11\n",
      "R2:  -3.247314114673716\n",
      "Delta R2:  0.07564838225401349\n",
      "12\n",
      "R2:  -3.237681987121946\n",
      "Delta R2:  0.06601625470224359\n",
      "13\n",
      "R2:  -3.2279846077086356\n",
      "Delta R2:  0.05631887528893298\n",
      "14\n",
      "R2:  -3.211883113149871\n",
      "Delta R2:  0.04021738073016845\n",
      "15\n",
      "R2:  -3.2254789556344425\n",
      "Delta R2:  0.053813223214739914\n",
      "16\n",
      "R2:  -3.270720137190559\n",
      "Delta R2:  0.09905440477085659\n",
      "17\n",
      "R2:  -3.28788127270711\n",
      "Delta R2:  0.11621554028740722\n",
      "18\n",
      "R2:  -3.198302479706232\n",
      "Delta R2:  0.026636747286529427\n",
      "19\n",
      "R2:  -3.228459918365158\n",
      "Delta R2:  0.05679418594545549\n",
      "20\n",
      "R2:  -3.2494405161078186\n",
      "Delta R2:  0.07777478368811597\n",
      "21\n",
      "R2:  -3.17280615616147\n",
      "Delta R2:  0.0011404237417673713\n",
      "22\n",
      "R2:  -3.2130557276721463\n",
      "Delta R2:  0.04138999525244369\n",
      "23\n",
      "R2:  -3.1418605390995937\n",
      "Delta R2:  -0.02980519332010889\n",
      "24\n",
      "R2:  -3.2373024100556735\n",
      "Delta R2:  0.06563667763597092\n",
      "25\n",
      "R2:  -3.136728853867246\n",
      "Delta R2:  -0.03493687855245664\n",
      "26\n",
      "R2:  -3.1949048051446205\n",
      "Delta R2:  0.023239072724917875\n",
      "27\n",
      "R2:  -3.1745744335958337\n",
      "Delta R2:  0.0029087011761310677\n",
      "28\n",
      "R2:  -3.236419636857889\n",
      "Delta R2:  0.06475390443818618\n",
      "29\n",
      "R2:  -3.262716875590127\n",
      "Delta R2:  0.09105114317042418\n",
      "30\n",
      "R2:  -3.2114542868049822\n",
      "Delta R2:  0.03978855438527962\n",
      "31\n",
      "R2:  -3.2642230889056636\n",
      "Delta R2:  0.09255735648596097\n",
      "32\n",
      "R2:  -3.242525399562628\n",
      "Delta R2:  0.07085966714292535\n",
      "33\n",
      "R2:  -3.193948071275507\n",
      "Delta R2:  0.02228233885580444\n",
      "34\n",
      "R2:  -3.256436514756266\n",
      "Delta R2:  0.08477078233656332\n",
      "35\n",
      "R2:  -3.2353837651414263\n",
      "Delta R2:  0.06371803272172372\n",
      "36\n",
      "R2:  -3.246493161650811\n",
      "Delta R2:  0.07482742923110841\n",
      "37\n",
      "R2:  -3.260165131511159\n",
      "Delta R2:  0.08849939909145643\n",
      "38\n",
      "R2:  -3.237662993031594\n",
      "Delta R2:  0.06599726061189148\n",
      "39\n",
      "R2:  -3.2061570040556022\n",
      "Delta R2:  0.0344912716358996\n",
      "40\n",
      "R2:  -3.258258526182093\n",
      "Delta R2:  0.08659279376239049\n",
      "41\n",
      "R2:  -3.2202253375817937\n",
      "Delta R2:  0.048559605162091124\n",
      "42\n",
      "R2:  -3.2341693010443224\n",
      "Delta R2:  0.06250356862461981\n",
      "43\n",
      "R2:  -3.2302423284303927\n",
      "Delta R2:  0.058576596010690096\n",
      "44\n",
      "R2:  -3.2348217595815676\n",
      "Delta R2:  0.06315602716186497\n",
      "45\n",
      "R2:  -3.2123750979642214\n",
      "Delta R2:  0.04070936554451876\n",
      "46\n",
      "R2:  -3.230800799091674\n",
      "Delta R2:  0.05913506667197144\n",
      "47\n",
      "R2:  -3.232124316251186\n",
      "Delta R2:  0.06045858383148328\n",
      "48\n",
      "R2:  -3.2378348010617266\n",
      "Delta R2:  0.06616906864202399\n",
      "49\n",
      "R2:  -3.2759174047086397\n",
      "Delta R2:  0.10425167228893706\n",
      "50\n",
      "R2:  -3.2732552019432823\n",
      "Delta R2:  0.10158946952357972\n",
      "51\n",
      "R2:  -3.166664412748961\n",
      "Delta R2:  -0.0050013196707414664\n",
      "52\n",
      "R2:  -3.2636704880796303\n",
      "Delta R2:  0.09200475565992772\n",
      "53\n",
      "R2:  -3.219572086369852\n",
      "Delta R2:  0.047906353950149416\n",
      "54\n",
      "R2:  -3.292279990971716\n",
      "Delta R2:  0.12061425855201335\n",
      "55\n",
      "R2:  -3.1567288833974807\n",
      "Delta R2:  -0.01493684902222192\n",
      "56\n",
      "R2:  -3.3100379911556397\n",
      "Delta R2:  0.13837225873593706\n",
      "57\n",
      "R2:  -3.2761555790735333\n",
      "Delta R2:  0.10448984665383065\n",
      "58\n",
      "R2:  -3.2601170631648273\n",
      "Delta R2:  0.08845133074512468\n",
      "59\n",
      "R2:  -3.28308519238801\n",
      "Delta R2:  0.1114194599683076\n",
      "60\n",
      "R2:  -3.3308956375570613\n",
      "Delta R2:  0.15922990513735868\n",
      "61\n",
      "R2:  -3.3063312817363313\n",
      "Delta R2:  0.13466554931662866\n",
      "62\n",
      "R2:  -3.3231047894582613\n",
      "Delta R2:  0.15143905703855864\n",
      "63\n",
      "R2:  -3.368495126057618\n",
      "Delta R2:  0.1968293936379153\n",
      "64\n",
      "R2:  -3.2834774533895894\n",
      "Delta R2:  0.11181172096988679\n",
      "65\n",
      "R2:  -3.3044759534961443\n",
      "Delta R2:  0.1328102210764417\n",
      "66\n",
      "R2:  -3.253347206975067\n",
      "Delta R2:  0.08168147455536445\n",
      "67\n",
      "R2:  -3.3485430358686585\n",
      "Delta R2:  0.1768773034489559\n",
      "68\n",
      "R2:  -3.266899545611399\n",
      "Delta R2:  0.09523381319169655\n",
      "69\n",
      "R2:  -3.254795941093885\n",
      "Delta R2:  0.08313020867418253\n",
      "70\n",
      "R2:  -3.2391788576773877\n",
      "Delta R2:  0.06751312525768505\n",
      "71\n",
      "R2:  -3.259696002035181\n",
      "Delta R2:  0.08803026961547822\n",
      "72\n",
      "R2:  -3.2289063986786832\n",
      "Delta R2:  0.05724066625898061\n",
      "73\n",
      "R2:  -3.2554810300739287\n",
      "Delta R2:  0.08381529765422613\n",
      "74\n",
      "R2:  -3.24991583684099\n",
      "Delta R2:  0.07825010442128733\n",
      "75\n",
      "R2:  -2.56405793133373\n",
      "Delta R2:  -0.6076078010859725\n",
      "76\n",
      "R2:  -2.0396101589437112\n",
      "Delta R2:  -1.1320555734759914\n",
      "77\n",
      "R2:  -3.05096687264259\n",
      "Delta R2:  -0.12069885977711259\n",
      "78\n",
      "R2:  -2.548025899526741\n",
      "Delta R2:  -0.6236398328929615\n",
      "79\n",
      "R2:  -3.3760946608783\n",
      "Delta R2:  0.20442892845859717\n",
      "80\n",
      "R2:  -3.4657869550762896\n",
      "Delta R2:  0.294121222656587\n",
      "81\n",
      "R2:  -3.136108437303605\n",
      "Delta R2:  -0.03555729511609762\n",
      "82\n",
      "R2:  -3.3389651500879447\n",
      "Delta R2:  0.16729941766824208\n",
      "83\n",
      "R2:  -3.371393361309278\n",
      "Delta R2:  0.1997276288895753\n",
      "84\n",
      "R2:  -3.306170209233361\n",
      "Delta R2:  0.1345044768136585\n",
      "85\n",
      "R2:  -3.267124049134984\n",
      "Delta R2:  0.09545831671528138\n",
      "86\n",
      "R2:  -3.3088930054773105\n",
      "Delta R2:  0.13722727305760785\n",
      "87\n",
      "R2:  -3.232252600240699\n",
      "Delta R2:  0.060586867820996204\n",
      "88\n",
      "R2:  -3.3688645463445344\n",
      "Delta R2:  0.19719881392483174\n",
      "89\n",
      "R2:  -2.9981448003677458\n",
      "Delta R2:  -0.17352093205195684\n",
      "90\n",
      "R2:  -2.312862616174362\n",
      "Delta R2:  -0.8588031162453404\n",
      "91\n",
      "R2:  -3.179280329247522\n",
      "Delta R2:  0.007614596827819398\n"
     ]
    }
   ],
   "source": [
    "delta_r2_list = []\n",
    "r2_list = []\n",
    "for column_index in range(X_test_lags.shape[2]):\n",
    "    print(column_index)\n",
    "    columns_test = X_test_lags.copy()\n",
    "    columns_test[:, :, column_index] = 0\n",
    "    \n",
    "    y_pred_col = model.predict(columns_test)\n",
    "    r2_col = r2_score(y_test_lags, y_pred_col)\n",
    "    print('R2: ', r2_col)\n",
    "    \n",
    "    delta_r2 = r2 - r2_col\n",
    "    print('Delta R2: ', delta_r2)\n",
    "    delta_r2_list.append(delta_r2)\n",
    "    r2_list.append(r2_col)"
   ]
  },
  {
   "cell_type": "code",
   "execution_count": 211,
   "metadata": {},
   "outputs": [],
   "source": [
    "delta_r2_df = pd.DataFrame(np.array([list(ada.columns.values), delta_r2_list]).transpose(), columns = ['Predictor', 'Delta R2'])\n",
    "delta_r2_df['Delta R2'] = np.float32(delta_r2_df['Delta R2'])\n",
    "delta_r2_df = delta_r2_df.sort_values(['Delta R2'], ascending=False).reset_index(drop=True)\n"
   ]
  },
  {
   "cell_type": "code",
   "execution_count": 212,
   "metadata": {},
   "outputs": [
    {
     "data": {
      "text/html": [
       "<div>\n",
       "<style scoped>\n",
       "    .dataframe tbody tr th:only-of-type {\n",
       "        vertical-align: middle;\n",
       "    }\n",
       "\n",
       "    .dataframe tbody tr th {\n",
       "        vertical-align: top;\n",
       "    }\n",
       "\n",
       "    .dataframe thead th {\n",
       "        text-align: right;\n",
       "    }\n",
       "</style>\n",
       "<table border=\"1\" class=\"dataframe\">\n",
       "  <thead>\n",
       "    <tr style=\"text-align: right;\">\n",
       "      <th></th>\n",
       "      <th>Predictor</th>\n",
       "      <th>Delta R2</th>\n",
       "    </tr>\n",
       "  </thead>\n",
       "  <tbody>\n",
       "    <tr>\n",
       "      <th>0</th>\n",
       "      <td>Taker buy quote asset volumne</td>\n",
       "      <td>0.318280</td>\n",
       "    </tr>\n",
       "    <tr>\n",
       "      <th>1</th>\n",
       "      <td>BTC Quote asset volume</td>\n",
       "      <td>0.294121</td>\n",
       "    </tr>\n",
       "    <tr>\n",
       "      <th>2</th>\n",
       "      <td>Taker buy base asset volume</td>\n",
       "      <td>0.249347</td>\n",
       "    </tr>\n",
       "    <tr>\n",
       "      <th>3</th>\n",
       "      <td>BTC Volume</td>\n",
       "      <td>0.204429</td>\n",
       "    </tr>\n",
       "    <tr>\n",
       "      <th>4</th>\n",
       "      <td>BTC Taker buy quote asset volumne</td>\n",
       "      <td>0.199728</td>\n",
       "    </tr>\n",
       "    <tr>\n",
       "      <th>5</th>\n",
       "      <td>BTC HL/O</td>\n",
       "      <td>0.197199</td>\n",
       "    </tr>\n",
       "    <tr>\n",
       "      <th>6</th>\n",
       "      <td>20m</td>\n",
       "      <td>0.196829</td>\n",
       "    </tr>\n",
       "    <tr>\n",
       "      <th>7</th>\n",
       "      <td>Number of trades</td>\n",
       "      <td>0.192411</td>\n",
       "    </tr>\n",
       "    <tr>\n",
       "      <th>8</th>\n",
       "      <td>40m</td>\n",
       "      <td>0.176877</td>\n",
       "    </tr>\n",
       "    <tr>\n",
       "      <th>9</th>\n",
       "      <td>BTC Taker buy base asset volume</td>\n",
       "      <td>0.167299</td>\n",
       "    </tr>\n",
       "  </tbody>\n",
       "</table>\n",
       "</div>"
      ],
      "text/plain": [
       "                           Predictor  Delta R2\n",
       "0      Taker buy quote asset volumne  0.318280\n",
       "1             BTC Quote asset volume  0.294121\n",
       "2        Taker buy base asset volume  0.249347\n",
       "3                         BTC Volume  0.204429\n",
       "4  BTC Taker buy quote asset volumne  0.199728\n",
       "5                           BTC HL/O  0.197199\n",
       "6                                20m  0.196829\n",
       "7                   Number of trades  0.192411\n",
       "8                                40m  0.176877\n",
       "9    BTC Taker buy base asset volume  0.167299"
      ]
     },
     "execution_count": 212,
     "metadata": {},
     "output_type": "execute_result"
    }
   ],
   "source": [
    "delta_r2_df.iloc[:10, :]"
   ]
  },
  {
   "cell_type": "code",
   "execution_count": 213,
   "metadata": {},
   "outputs": [
    {
     "data": {
      "image/png": "[encoded data removed]",
      "text/plain": [
       "<Figure size 1080x720 with 1 Axes>"
      ]
     },
     "metadata": {},
     "output_type": "display_data"
    }
   ],
   "source": [
    "plt.figure(figsize=(15, 10))\n",
    "plt.rcParams.update({'font.size': 16})\n",
    "plt.bar(delta_r2_df.iloc[:10, :]['Predictor'], \n",
    "        delta_r2_df.iloc[:10, :]['Delta R2'], \n",
    "        color=(0.2, 0.4, 0.6, 0.6), zorder=3)\n",
    "\n",
    "plt.xlabel('Predictor')\n",
    "plt.ylabel('Delta R2')\n",
    "plt.xticks(delta_r2_df.iloc[:10, :]['Predictor'])\n",
    "plt.xticks(rotation=90)\n",
    "plt.grid(True, zorder=0)\n",
    "\n",
    "plt.show()"
   ]
  }
 ],
 "metadata": {
  "kernelspec": {
   "display_name": "Python 3",
   "language": "python",
   "name": "python3"
  },
  "language_info": {
   "codemirror_mode": {
    "name": "ipython",
    "version": 3
   },
   "file_extension": ".py",
   "mimetype": "text/x-python",
   "name": "python",
   "nbconvert_exporter": "python",
   "pygments_lexer": "ipython3",
   "version": "3.8.10"
  }
 },
 "nbformat": 4,
 "nbformat_minor": 4
}
